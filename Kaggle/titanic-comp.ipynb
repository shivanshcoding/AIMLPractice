{
 "cells": [
  {
   "cell_type": "code",
   "execution_count": 1,
   "id": "18995daa",
   "metadata": {
    "_cell_guid": "b1076dfc-b9ad-4769-8c92-a6c4dae69d19",
    "_uuid": "8f2839f25d086af736a60e9eeb907d3b93b6e0e5",
    "execution": {
     "iopub.execute_input": "2025-10-11T07:47:51.676721Z",
     "iopub.status.busy": "2025-10-11T07:47:51.676452Z",
     "iopub.status.idle": "2025-10-11T07:47:53.337202Z",
     "shell.execute_reply": "2025-10-11T07:47:53.336206Z"
    },
    "papermill": {
     "duration": 1.668702,
     "end_time": "2025-10-11T07:47:53.338631",
     "exception": false,
     "start_time": "2025-10-11T07:47:51.669929",
     "status": "completed"
    },
    "tags": []
   },
   "outputs": [
    {
     "name": "stdout",
     "output_type": "stream",
     "text": [
      "/kaggle/input/titanic/train.csv\n",
      "/kaggle/input/titanic/test.csv\n",
      "/kaggle/input/titanic/gender_submission.csv\n"
     ]
    }
   ],
   "source": [
    "# This Python 3 environment comes with many helpful analytics libraries installed\n",
    "# It is defined by the kaggle/python Docker image: https://github.com/kaggle/docker-python\n",
    "# For example, here's several helpful packages to load\n",
    "\n",
    "import numpy as np # linear algebra\n",
    "import pandas as pd # data processing, CSV file I/O (e.g. pd.read_csv)\n",
    "\n",
    "# Input data files are available in the read-only \"../input/\" directory\n",
    "# For example, running this (by clicking run or pressing Shift+Enter) will list all files under the input directory\n",
    "\n",
    "import os\n",
    "for dirname, _, filenames in os.walk('/kaggle/input'):\n",
    "    for filename in filenames:\n",
    "        print(os.path.join(dirname, filename))\n",
    "\n",
    "# You can write up to 20GB to the current directory (/kaggle/working/) that gets preserved as output when you create a version using \"Save & Run All\" \n",
    "# You can also write temporary files to /kaggle/temp/, but they won't be saved outside of the current session"
   ]
  },
  {
   "cell_type": "code",
   "execution_count": 2,
   "id": "7a337ca7",
   "metadata": {
    "execution": {
     "iopub.execute_input": "2025-10-11T07:47:53.348967Z",
     "iopub.status.busy": "2025-10-11T07:47:53.348586Z",
     "iopub.status.idle": "2025-10-11T07:47:55.446054Z",
     "shell.execute_reply": "2025-10-11T07:47:55.445197Z"
    },
    "papermill": {
     "duration": 2.1043,
     "end_time": "2025-10-11T07:47:55.447659",
     "exception": false,
     "start_time": "2025-10-11T07:47:53.343359",
     "status": "completed"
    },
    "tags": []
   },
   "outputs": [],
   "source": [
    "import matplotlib.pyplot as plt\n",
    "import seaborn as sns\n",
    "\n",
    "from sklearn.preprocessing import LabelEncoder, StandardScaler\n",
    "from sklearn.impute import SimpleImputer\n",
    "from sklearn.model_selection import train_test_split"
   ]
  },
  {
   "cell_type": "code",
   "execution_count": 3,
   "id": "eba5b169",
   "metadata": {
    "execution": {
     "iopub.execute_input": "2025-10-11T07:47:55.458181Z",
     "iopub.status.busy": "2025-10-11T07:47:55.457516Z",
     "iopub.status.idle": "2025-10-11T07:47:55.497348Z",
     "shell.execute_reply": "2025-10-11T07:47:55.496515Z"
    },
    "papermill": {
     "duration": 0.046482,
     "end_time": "2025-10-11T07:47:55.498721",
     "exception": false,
     "start_time": "2025-10-11T07:47:55.452239",
     "status": "completed"
    },
    "tags": []
   },
   "outputs": [
    {
     "data": {
      "text/html": [
       "<div>\n",
       "<style scoped>\n",
       "    .dataframe tbody tr th:only-of-type {\n",
       "        vertical-align: middle;\n",
       "    }\n",
       "\n",
       "    .dataframe tbody tr th {\n",
       "        vertical-align: top;\n",
       "    }\n",
       "\n",
       "    .dataframe thead th {\n",
       "        text-align: right;\n",
       "    }\n",
       "</style>\n",
       "<table border=\"1\" class=\"dataframe\">\n",
       "  <thead>\n",
       "    <tr style=\"text-align: right;\">\n",
       "      <th></th>\n",
       "      <th>PassengerId</th>\n",
       "      <th>Survived</th>\n",
       "      <th>Pclass</th>\n",
       "      <th>Name</th>\n",
       "      <th>Sex</th>\n",
       "      <th>Age</th>\n",
       "      <th>SibSp</th>\n",
       "      <th>Parch</th>\n",
       "      <th>Ticket</th>\n",
       "      <th>Fare</th>\n",
       "      <th>Cabin</th>\n",
       "      <th>Embarked</th>\n",
       "    </tr>\n",
       "  </thead>\n",
       "  <tbody>\n",
       "    <tr>\n",
       "      <th>0</th>\n",
       "      <td>1</td>\n",
       "      <td>0</td>\n",
       "      <td>3</td>\n",
       "      <td>Braund, Mr. Owen Harris</td>\n",
       "      <td>male</td>\n",
       "      <td>22.0</td>\n",
       "      <td>1</td>\n",
       "      <td>0</td>\n",
       "      <td>A/5 21171</td>\n",
       "      <td>7.2500</td>\n",
       "      <td>NaN</td>\n",
       "      <td>S</td>\n",
       "    </tr>\n",
       "    <tr>\n",
       "      <th>1</th>\n",
       "      <td>2</td>\n",
       "      <td>1</td>\n",
       "      <td>1</td>\n",
       "      <td>Cumings, Mrs. John Bradley (Florence Briggs Th...</td>\n",
       "      <td>female</td>\n",
       "      <td>38.0</td>\n",
       "      <td>1</td>\n",
       "      <td>0</td>\n",
       "      <td>PC 17599</td>\n",
       "      <td>71.2833</td>\n",
       "      <td>C85</td>\n",
       "      <td>C</td>\n",
       "    </tr>\n",
       "    <tr>\n",
       "      <th>2</th>\n",
       "      <td>3</td>\n",
       "      <td>1</td>\n",
       "      <td>3</td>\n",
       "      <td>Heikkinen, Miss. Laina</td>\n",
       "      <td>female</td>\n",
       "      <td>26.0</td>\n",
       "      <td>0</td>\n",
       "      <td>0</td>\n",
       "      <td>STON/O2. 3101282</td>\n",
       "      <td>7.9250</td>\n",
       "      <td>NaN</td>\n",
       "      <td>S</td>\n",
       "    </tr>\n",
       "    <tr>\n",
       "      <th>3</th>\n",
       "      <td>4</td>\n",
       "      <td>1</td>\n",
       "      <td>1</td>\n",
       "      <td>Futrelle, Mrs. Jacques Heath (Lily May Peel)</td>\n",
       "      <td>female</td>\n",
       "      <td>35.0</td>\n",
       "      <td>1</td>\n",
       "      <td>0</td>\n",
       "      <td>113803</td>\n",
       "      <td>53.1000</td>\n",
       "      <td>C123</td>\n",
       "      <td>S</td>\n",
       "    </tr>\n",
       "    <tr>\n",
       "      <th>4</th>\n",
       "      <td>5</td>\n",
       "      <td>0</td>\n",
       "      <td>3</td>\n",
       "      <td>Allen, Mr. William Henry</td>\n",
       "      <td>male</td>\n",
       "      <td>35.0</td>\n",
       "      <td>0</td>\n",
       "      <td>0</td>\n",
       "      <td>373450</td>\n",
       "      <td>8.0500</td>\n",
       "      <td>NaN</td>\n",
       "      <td>S</td>\n",
       "    </tr>\n",
       "  </tbody>\n",
       "</table>\n",
       "</div>"
      ],
      "text/plain": [
       "   PassengerId  Survived  Pclass  \\\n",
       "0            1         0       3   \n",
       "1            2         1       1   \n",
       "2            3         1       3   \n",
       "3            4         1       1   \n",
       "4            5         0       3   \n",
       "\n",
       "                                                Name     Sex   Age  SibSp  \\\n",
       "0                            Braund, Mr. Owen Harris    male  22.0      1   \n",
       "1  Cumings, Mrs. John Bradley (Florence Briggs Th...  female  38.0      1   \n",
       "2                             Heikkinen, Miss. Laina  female  26.0      0   \n",
       "3       Futrelle, Mrs. Jacques Heath (Lily May Peel)  female  35.0      1   \n",
       "4                           Allen, Mr. William Henry    male  35.0      0   \n",
       "\n",
       "   Parch            Ticket     Fare Cabin Embarked  \n",
       "0      0         A/5 21171   7.2500   NaN        S  \n",
       "1      0          PC 17599  71.2833   C85        C  \n",
       "2      0  STON/O2. 3101282   7.9250   NaN        S  \n",
       "3      0            113803  53.1000  C123        S  \n",
       "4      0            373450   8.0500   NaN        S  "
      ]
     },
     "execution_count": 3,
     "metadata": {},
     "output_type": "execute_result"
    }
   ],
   "source": [
    "file_path_train = \"/kaggle/input/titanic/train.csv\"\n",
    "train = pd.read_csv(file_path_train)\n",
    "train.head()"
   ]
  },
  {
   "cell_type": "code",
   "execution_count": 4,
   "id": "217a70a5",
   "metadata": {
    "execution": {
     "iopub.execute_input": "2025-10-11T07:47:55.508818Z",
     "iopub.status.busy": "2025-10-11T07:47:55.508549Z",
     "iopub.status.idle": "2025-10-11T07:47:55.526780Z",
     "shell.execute_reply": "2025-10-11T07:47:55.525993Z"
    },
    "papermill": {
     "duration": 0.024888,
     "end_time": "2025-10-11T07:47:55.528357",
     "exception": false,
     "start_time": "2025-10-11T07:47:55.503469",
     "status": "completed"
    },
    "tags": []
   },
   "outputs": [
    {
     "data": {
      "text/html": [
       "<div>\n",
       "<style scoped>\n",
       "    .dataframe tbody tr th:only-of-type {\n",
       "        vertical-align: middle;\n",
       "    }\n",
       "\n",
       "    .dataframe tbody tr th {\n",
       "        vertical-align: top;\n",
       "    }\n",
       "\n",
       "    .dataframe thead th {\n",
       "        text-align: right;\n",
       "    }\n",
       "</style>\n",
       "<table border=\"1\" class=\"dataframe\">\n",
       "  <thead>\n",
       "    <tr style=\"text-align: right;\">\n",
       "      <th></th>\n",
       "      <th>PassengerId</th>\n",
       "      <th>Pclass</th>\n",
       "      <th>Name</th>\n",
       "      <th>Sex</th>\n",
       "      <th>Age</th>\n",
       "      <th>SibSp</th>\n",
       "      <th>Parch</th>\n",
       "      <th>Ticket</th>\n",
       "      <th>Fare</th>\n",
       "      <th>Cabin</th>\n",
       "      <th>Embarked</th>\n",
       "    </tr>\n",
       "  </thead>\n",
       "  <tbody>\n",
       "    <tr>\n",
       "      <th>0</th>\n",
       "      <td>892</td>\n",
       "      <td>3</td>\n",
       "      <td>Kelly, Mr. James</td>\n",
       "      <td>male</td>\n",
       "      <td>34.5</td>\n",
       "      <td>0</td>\n",
       "      <td>0</td>\n",
       "      <td>330911</td>\n",
       "      <td>7.8292</td>\n",
       "      <td>NaN</td>\n",
       "      <td>Q</td>\n",
       "    </tr>\n",
       "    <tr>\n",
       "      <th>1</th>\n",
       "      <td>893</td>\n",
       "      <td>3</td>\n",
       "      <td>Wilkes, Mrs. James (Ellen Needs)</td>\n",
       "      <td>female</td>\n",
       "      <td>47.0</td>\n",
       "      <td>1</td>\n",
       "      <td>0</td>\n",
       "      <td>363272</td>\n",
       "      <td>7.0000</td>\n",
       "      <td>NaN</td>\n",
       "      <td>S</td>\n",
       "    </tr>\n",
       "    <tr>\n",
       "      <th>2</th>\n",
       "      <td>894</td>\n",
       "      <td>2</td>\n",
       "      <td>Myles, Mr. Thomas Francis</td>\n",
       "      <td>male</td>\n",
       "      <td>62.0</td>\n",
       "      <td>0</td>\n",
       "      <td>0</td>\n",
       "      <td>240276</td>\n",
       "      <td>9.6875</td>\n",
       "      <td>NaN</td>\n",
       "      <td>Q</td>\n",
       "    </tr>\n",
       "    <tr>\n",
       "      <th>3</th>\n",
       "      <td>895</td>\n",
       "      <td>3</td>\n",
       "      <td>Wirz, Mr. Albert</td>\n",
       "      <td>male</td>\n",
       "      <td>27.0</td>\n",
       "      <td>0</td>\n",
       "      <td>0</td>\n",
       "      <td>315154</td>\n",
       "      <td>8.6625</td>\n",
       "      <td>NaN</td>\n",
       "      <td>S</td>\n",
       "    </tr>\n",
       "    <tr>\n",
       "      <th>4</th>\n",
       "      <td>896</td>\n",
       "      <td>3</td>\n",
       "      <td>Hirvonen, Mrs. Alexander (Helga E Lindqvist)</td>\n",
       "      <td>female</td>\n",
       "      <td>22.0</td>\n",
       "      <td>1</td>\n",
       "      <td>1</td>\n",
       "      <td>3101298</td>\n",
       "      <td>12.2875</td>\n",
       "      <td>NaN</td>\n",
       "      <td>S</td>\n",
       "    </tr>\n",
       "  </tbody>\n",
       "</table>\n",
       "</div>"
      ],
      "text/plain": [
       "   PassengerId  Pclass                                          Name     Sex  \\\n",
       "0          892       3                              Kelly, Mr. James    male   \n",
       "1          893       3              Wilkes, Mrs. James (Ellen Needs)  female   \n",
       "2          894       2                     Myles, Mr. Thomas Francis    male   \n",
       "3          895       3                              Wirz, Mr. Albert    male   \n",
       "4          896       3  Hirvonen, Mrs. Alexander (Helga E Lindqvist)  female   \n",
       "\n",
       "    Age  SibSp  Parch   Ticket     Fare Cabin Embarked  \n",
       "0  34.5      0      0   330911   7.8292   NaN        Q  \n",
       "1  47.0      1      0   363272   7.0000   NaN        S  \n",
       "2  62.0      0      0   240276   9.6875   NaN        Q  \n",
       "3  27.0      0      0   315154   8.6625   NaN        S  \n",
       "4  22.0      1      1  3101298  12.2875   NaN        S  "
      ]
     },
     "execution_count": 4,
     "metadata": {},
     "output_type": "execute_result"
    }
   ],
   "source": [
    "file_path_test = \"/kaggle/input/titanic/test.csv\"\n",
    "test = pd.read_csv(file_path_test)\n",
    "test.head()"
   ]
  },
  {
   "cell_type": "code",
   "execution_count": 5,
   "id": "94f4bc24",
   "metadata": {
    "execution": {
     "iopub.execute_input": "2025-10-11T07:47:55.539036Z",
     "iopub.status.busy": "2025-10-11T07:47:55.538524Z",
     "iopub.status.idle": "2025-10-11T07:47:55.545617Z",
     "shell.execute_reply": "2025-10-11T07:47:55.544838Z"
    },
    "papermill": {
     "duration": 0.013673,
     "end_time": "2025-10-11T07:47:55.546909",
     "exception": false,
     "start_time": "2025-10-11T07:47:55.533236",
     "status": "completed"
    },
    "tags": []
   },
   "outputs": [
    {
     "data": {
      "text/plain": [
       "PassengerId      0\n",
       "Survived         0\n",
       "Pclass           0\n",
       "Name             0\n",
       "Sex              0\n",
       "Age            177\n",
       "SibSp            0\n",
       "Parch            0\n",
       "Ticket           0\n",
       "Fare             0\n",
       "Cabin          687\n",
       "Embarked         2\n",
       "dtype: int64"
      ]
     },
     "execution_count": 5,
     "metadata": {},
     "output_type": "execute_result"
    }
   ],
   "source": [
    "train.isna().sum()"
   ]
  },
  {
   "cell_type": "code",
   "execution_count": 6,
   "id": "593552a4",
   "metadata": {
    "execution": {
     "iopub.execute_input": "2025-10-11T07:47:55.557220Z",
     "iopub.status.busy": "2025-10-11T07:47:55.556955Z",
     "iopub.status.idle": "2025-10-11T07:47:55.563353Z",
     "shell.execute_reply": "2025-10-11T07:47:55.562690Z"
    },
    "papermill": {
     "duration": 0.012934,
     "end_time": "2025-10-11T07:47:55.564600",
     "exception": false,
     "start_time": "2025-10-11T07:47:55.551666",
     "status": "completed"
    },
    "tags": []
   },
   "outputs": [
    {
     "data": {
      "text/plain": [
       "PassengerId      0\n",
       "Pclass           0\n",
       "Name             0\n",
       "Sex              0\n",
       "Age             86\n",
       "SibSp            0\n",
       "Parch            0\n",
       "Ticket           0\n",
       "Fare             1\n",
       "Cabin          327\n",
       "Embarked         0\n",
       "dtype: int64"
      ]
     },
     "execution_count": 6,
     "metadata": {},
     "output_type": "execute_result"
    }
   ],
   "source": [
    "test.isna().sum()"
   ]
  },
  {
   "cell_type": "code",
   "execution_count": 7,
   "id": "458f7476",
   "metadata": {
    "execution": {
     "iopub.execute_input": "2025-10-11T07:47:55.575917Z",
     "iopub.status.busy": "2025-10-11T07:47:55.575463Z",
     "iopub.status.idle": "2025-10-11T07:47:55.583800Z",
     "shell.execute_reply": "2025-10-11T07:47:55.583228Z"
    },
    "papermill": {
     "duration": 0.015596,
     "end_time": "2025-10-11T07:47:55.584997",
     "exception": false,
     "start_time": "2025-10-11T07:47:55.569401",
     "status": "completed"
    },
    "tags": []
   },
   "outputs": [],
   "source": [
    "# 3.3 Family size\n",
    "for df in [train, test]:\n",
    "    df['FamilySize'] = df['SibSp'] + df['Parch'] + 1\n",
    "    df['IsAlone'] = np.where(df['FamilySize'] == 1, 1, 0)"
   ]
  },
  {
   "cell_type": "code",
   "execution_count": 8,
   "id": "a8103f08",
   "metadata": {
    "execution": {
     "iopub.execute_input": "2025-10-11T07:47:55.595255Z",
     "iopub.status.busy": "2025-10-11T07:47:55.595015Z",
     "iopub.status.idle": "2025-10-11T07:47:55.601459Z",
     "shell.execute_reply": "2025-10-11T07:47:55.600842Z"
    },
    "papermill": {
     "duration": 0.012944,
     "end_time": "2025-10-11T07:47:55.602660",
     "exception": false,
     "start_time": "2025-10-11T07:47:55.589716",
     "status": "completed"
    },
    "tags": []
   },
   "outputs": [
    {
     "data": {
      "text/plain": [
       "PassengerId      0\n",
       "Survived         0\n",
       "Pclass           0\n",
       "Name             0\n",
       "Sex              0\n",
       "Age            177\n",
       "SibSp            0\n",
       "Parch            0\n",
       "Ticket           0\n",
       "Fare             0\n",
       "Cabin          687\n",
       "Embarked         2\n",
       "FamilySize       0\n",
       "IsAlone          0\n",
       "dtype: int64"
      ]
     },
     "execution_count": 8,
     "metadata": {},
     "output_type": "execute_result"
    }
   ],
   "source": [
    "train.isna().sum()"
   ]
  },
  {
   "cell_type": "code",
   "execution_count": 9,
   "id": "7c859674",
   "metadata": {
    "execution": {
     "iopub.execute_input": "2025-10-11T07:47:55.613376Z",
     "iopub.status.busy": "2025-10-11T07:47:55.613117Z",
     "iopub.status.idle": "2025-10-11T07:47:55.619466Z",
     "shell.execute_reply": "2025-10-11T07:47:55.618844Z"
    },
    "papermill": {
     "duration": 0.013039,
     "end_time": "2025-10-11T07:47:55.620575",
     "exception": false,
     "start_time": "2025-10-11T07:47:55.607536",
     "status": "completed"
    },
    "tags": []
   },
   "outputs": [
    {
     "data": {
      "text/plain": [
       "PassengerId      0\n",
       "Pclass           0\n",
       "Name             0\n",
       "Sex              0\n",
       "Age             86\n",
       "SibSp            0\n",
       "Parch            0\n",
       "Ticket           0\n",
       "Fare             1\n",
       "Cabin          327\n",
       "Embarked         0\n",
       "FamilySize       0\n",
       "IsAlone          0\n",
       "dtype: int64"
      ]
     },
     "execution_count": 9,
     "metadata": {},
     "output_type": "execute_result"
    }
   ],
   "source": [
    "test.isna().sum()"
   ]
  },
  {
   "cell_type": "code",
   "execution_count": 10,
   "id": "a4cfa687",
   "metadata": {
    "execution": {
     "iopub.execute_input": "2025-10-11T07:47:55.631689Z",
     "iopub.status.busy": "2025-10-11T07:47:55.631124Z",
     "iopub.status.idle": "2025-10-11T07:47:55.642795Z",
     "shell.execute_reply": "2025-10-11T07:47:55.642195Z"
    },
    "papermill": {
     "duration": 0.01834,
     "end_time": "2025-10-11T07:47:55.643889",
     "exception": false,
     "start_time": "2025-10-11T07:47:55.625549",
     "status": "completed"
    },
    "tags": []
   },
   "outputs": [
    {
     "data": {
      "text/plain": [
       "PassengerId      0\n",
       "Survived         0\n",
       "Pclass           0\n",
       "Name             0\n",
       "Sex              0\n",
       "Age            177\n",
       "SibSp            0\n",
       "Parch            0\n",
       "Ticket           0\n",
       "Fare             0\n",
       "Cabin          687\n",
       "Embarked         0\n",
       "FamilySize       0\n",
       "IsAlone          0\n",
       "dtype: int64"
      ]
     },
     "execution_count": 10,
     "metadata": {},
     "output_type": "execute_result"
    }
   ],
   "source": [
    "# print(train[train['Embarked'].isna()])\n",
    "train.loc[train['PassengerId'].isin([62, 830]), 'Embarked'] = 'C'\n",
    "train.isna().sum()"
   ]
  },
  {
   "cell_type": "code",
   "execution_count": 11,
   "id": "c243acdd",
   "metadata": {
    "execution": {
     "iopub.execute_input": "2025-10-11T07:47:55.654793Z",
     "iopub.status.busy": "2025-10-11T07:47:55.654559Z",
     "iopub.status.idle": "2025-10-11T07:47:55.665148Z",
     "shell.execute_reply": "2025-10-11T07:47:55.664481Z"
    },
    "papermill": {
     "duration": 0.017538,
     "end_time": "2025-10-11T07:47:55.666466",
     "exception": false,
     "start_time": "2025-10-11T07:47:55.648928",
     "status": "completed"
    },
    "tags": []
   },
   "outputs": [],
   "source": [
    "missing_fare_index = test[test['Fare'].isna()].index\n",
    "# print(test.loc[missing_fare_index])\n",
    "for idx in missing_fare_index:\n",
    "    pclass = test.loc[idx, 'Pclass']\n",
    "    median_fare = test[test['Pclass'] == pclass]['Fare'].median()\n",
    "    test.loc[idx, 'Fare'] = median_fare"
   ]
  },
  {
   "cell_type": "code",
   "execution_count": 12,
   "id": "c6f46df9",
   "metadata": {
    "execution": {
     "iopub.execute_input": "2025-10-11T07:47:55.677559Z",
     "iopub.status.busy": "2025-10-11T07:47:55.677108Z",
     "iopub.status.idle": "2025-10-11T07:47:55.683719Z",
     "shell.execute_reply": "2025-10-11T07:47:55.682971Z"
    },
    "papermill": {
     "duration": 0.0134,
     "end_time": "2025-10-11T07:47:55.684974",
     "exception": false,
     "start_time": "2025-10-11T07:47:55.671574",
     "status": "completed"
    },
    "tags": []
   },
   "outputs": [
    {
     "data": {
      "text/plain": [
       "PassengerId      0\n",
       "Pclass           0\n",
       "Name             0\n",
       "Sex              0\n",
       "Age             86\n",
       "SibSp            0\n",
       "Parch            0\n",
       "Ticket           0\n",
       "Fare             0\n",
       "Cabin          327\n",
       "Embarked         0\n",
       "FamilySize       0\n",
       "IsAlone          0\n",
       "dtype: int64"
      ]
     },
     "execution_count": 12,
     "metadata": {},
     "output_type": "execute_result"
    }
   ],
   "source": [
    "test.isna().sum()"
   ]
  },
  {
   "cell_type": "code",
   "execution_count": 13,
   "id": "0177fdaa",
   "metadata": {
    "execution": {
     "iopub.execute_input": "2025-10-11T07:47:55.696600Z",
     "iopub.status.busy": "2025-10-11T07:47:55.695748Z",
     "iopub.status.idle": "2025-10-11T07:47:55.703622Z",
     "shell.execute_reply": "2025-10-11T07:47:55.702858Z"
    },
    "papermill": {
     "duration": 0.014787,
     "end_time": "2025-10-11T07:47:55.704855",
     "exception": false,
     "start_time": "2025-10-11T07:47:55.690068",
     "status": "completed"
    },
    "tags": []
   },
   "outputs": [
    {
     "name": "stdout",
     "output_type": "stream",
     "text": [
      "['male' 'female']\n",
      "['male' 'female']\n",
      "['S' 'C' 'Q']\n",
      "['Q' 'S' 'C']\n"
     ]
    }
   ],
   "source": [
    "print(train['Sex'].unique())\n",
    "print(test['Sex'].unique())\n",
    "\n",
    "print(train['Embarked'].unique())\n",
    "print(test['Embarked'].unique())\n"
   ]
  },
  {
   "cell_type": "code",
   "execution_count": 14,
   "id": "c0215427",
   "metadata": {
    "execution": {
     "iopub.execute_input": "2025-10-11T07:47:55.717175Z",
     "iopub.status.busy": "2025-10-11T07:47:55.716500Z",
     "iopub.status.idle": "2025-10-11T07:47:55.724164Z",
     "shell.execute_reply": "2025-10-11T07:47:55.723371Z"
    },
    "papermill": {
     "duration": 0.015048,
     "end_time": "2025-10-11T07:47:55.725333",
     "exception": false,
     "start_time": "2025-10-11T07:47:55.710285",
     "status": "completed"
    },
    "tags": []
   },
   "outputs": [],
   "source": [
    "mapping = {'S':0, 'C':1, 'Q':2}\n",
    "for df in [train, test]:\n",
    "    df['Sex'] = df['Sex'].map({'male':0, 'female':1})\n",
    "    df['Embarked'] = df['Embarked'].map(mapping)"
   ]
  },
  {
   "cell_type": "code",
   "execution_count": 15,
   "id": "f400948d",
   "metadata": {
    "execution": {
     "iopub.execute_input": "2025-10-11T07:47:55.736592Z",
     "iopub.status.busy": "2025-10-11T07:47:55.736320Z",
     "iopub.status.idle": "2025-10-11T07:47:55.739988Z",
     "shell.execute_reply": "2025-10-11T07:47:55.739223Z"
    },
    "papermill": {
     "duration": 0.010701,
     "end_time": "2025-10-11T07:47:55.741210",
     "exception": false,
     "start_time": "2025-10-11T07:47:55.730509",
     "status": "completed"
    },
    "tags": []
   },
   "outputs": [],
   "source": [
    "# age_features = ['Pclass', 'Sex', 'SibSp', 'Parch', 'Fare', 'Embarked', 'FamilySize', 'IsAlone']\n",
    "\n",
    "# train_known_age = train[train['Age'].notna()]\n",
    "# train_missing_age = train[train['Age'].isna()]\n",
    "\n",
    "# from sklearn.ensemble import RandomForestRegressor\n",
    "\n",
    "# age_model = RandomForestRegressor(n_estimators=100, random_state=42)\n",
    "# age_model.fit(train_known_age[age_features], train_known_age['Age'])\n",
    "\n",
    "# train.loc[train['Age'].isna(), 'Age'] = age_model.predict(train_missing_age[age_features])\n",
    "# test_missing_age = test[test['Age'].isna()]\n",
    "# test.loc[test['Age'].isna(), 'Age'] = age_model.predict(test_missing_age[age_features])\n",
    "\n"
   ]
  },
  {
   "cell_type": "code",
   "execution_count": 16,
   "id": "31af548e",
   "metadata": {
    "execution": {
     "iopub.execute_input": "2025-10-11T07:47:55.752691Z",
     "iopub.status.busy": "2025-10-11T07:47:55.752438Z",
     "iopub.status.idle": "2025-10-11T07:48:15.776238Z",
     "shell.execute_reply": "2025-10-11T07:48:15.775622Z"
    },
    "papermill": {
     "duration": 20.03116,
     "end_time": "2025-10-11T07:48:15.777518",
     "exception": false,
     "start_time": "2025-10-11T07:47:55.746358",
     "status": "completed"
    },
    "tags": []
   },
   "outputs": [
    {
     "name": "stdout",
     "output_type": "stream",
     "text": [
      "Fitting 3 folds for each of 30 candidates, totalling 90 fits\n",
      "Fitting 3 folds for each of 30 candidates, totalling 90 fits\n",
      "Best Params for Age Model: {'regressor__l2_regularization': 0.003533152609858703, 'regressor__learning_rate': 0.014612485008283152, 'regressor__max_depth': 5, 'regressor__max_iter': 158}\n"
     ]
    }
   ],
   "source": [
    "import pandas as pd\n",
    "import numpy as np\n",
    "from sklearn.ensemble import HistGradientBoostingRegressor\n",
    "from sklearn.model_selection import RandomizedSearchCV\n",
    "from sklearn.preprocessing import OneHotEncoder, StandardScaler, PolynomialFeatures\n",
    "from sklearn.compose import ColumnTransformer\n",
    "from sklearn.pipeline import Pipeline\n",
    "from sklearn.impute import SimpleImputer\n",
    "from scipy.stats import randint, uniform\n",
    "\n",
    "# ✅ 1. Features to use for age prediction\n",
    "age_features = ['Pclass', 'Sex', 'Fare', 'Embarked', 'FamilySize', 'IsAlone']\n",
    "\n",
    "# ✅ 2. Separate rows with known and missing Age\n",
    "train_known_age = train[train['Age'].notna()]\n",
    "test_known_age = test[test['Age'].notna()]\n",
    "train_missing_age = train[train['Age'].isna()]\n",
    "test_missing_age = test[test['Age'].isna()]\n",
    "\n",
    "# ✅ 3. Identify categorical & numerical columns\n",
    "cat_cols = ['Sex', 'Embarked', 'IsAlone']\n",
    "num_cols = ['Pclass', 'Fare', 'FamilySize']\n",
    "\n",
    "# ✅ 4. Preprocessing pipelines\n",
    "num_transformer = Pipeline([\n",
    "    ('imputer', SimpleImputer(strategy='median')),\n",
    "    ('scaler', StandardScaler()),\n",
    "    ('poly', PolynomialFeatures(degree=2, include_bias=False))  # adds interaction & squared terms\n",
    "])\n",
    "\n",
    "cat_transformer = Pipeline([\n",
    "    ('imputer', SimpleImputer(strategy='most_frequent')),\n",
    "    ('onehot', OneHotEncoder(handle_unknown='ignore'))\n",
    "])\n",
    "\n",
    "preprocessor = ColumnTransformer([\n",
    "    ('num', num_transformer, num_cols),\n",
    "    ('cat', cat_transformer, cat_cols)\n",
    "])\n",
    "\n",
    "# ✅ 5. Regressor model — HistGradientBoosting often performs better than RF\n",
    "model = HistGradientBoostingRegressor(random_state=42)\n",
    "\n",
    "# ✅ 6. Build pipeline\n",
    "pipe = Pipeline([\n",
    "    ('preprocessor', preprocessor),\n",
    "    ('regressor', model)\n",
    "])\n",
    "\n",
    "# ✅ 7. Hyperparameter tuning with RandomizedSearchCV\n",
    "param_dist = {\n",
    "    'regressor__max_depth': randint(3, 10),\n",
    "    'regressor__learning_rate': uniform(0.01, 0.2),\n",
    "    'regressor__max_iter': randint(100, 400),\n",
    "    'regressor__l2_regularization': uniform(0.0, 0.5)\n",
    "}\n",
    "\n",
    "search = RandomizedSearchCV(\n",
    "    pipe,\n",
    "    param_distributions=param_dist,\n",
    "    n_iter=30,\n",
    "    cv=3,\n",
    "    n_jobs=-1,\n",
    "    scoring='neg_mean_absolute_error',\n",
    "    random_state=42,\n",
    "    verbose=1\n",
    ")\n",
    "\n",
    "# ✅ 8. Train on rows with known Age\n",
    "search.fit(train_known_age[age_features], train_known_age['Age'])\n",
    "search.fit(test_known_age[age_features], test_known_age['Age'])\n",
    "best_model = search.best_estimator_\n",
    "print(\"Best Params for Age Model:\", search.best_params_)\n",
    "\n",
    "# ✅ 9. Predict missing Age for TRAIN\n",
    "if not train_missing_age.empty:\n",
    "    train.loc[train['Age'].isna(), 'Age'] = best_model.predict(train_missing_age[age_features])\n",
    "\n",
    "# ✅ 10. Predict missing Age for TEST\n",
    "test_missing_age = test[test['Age'].isna()]\n",
    "if not test_missing_age.empty:\n",
    "    test.loc[test['Age'].isna(), 'Age'] = best_model.predict(test_missing_age[age_features])\n",
    "\n"
   ]
  },
  {
   "cell_type": "code",
   "execution_count": 17,
   "id": "bec34e7c",
   "metadata": {
    "execution": {
     "iopub.execute_input": "2025-10-11T07:48:15.790217Z",
     "iopub.status.busy": "2025-10-11T07:48:15.789588Z",
     "iopub.status.idle": "2025-10-11T07:48:16.184170Z",
     "shell.execute_reply": "2025-10-11T07:48:16.183320Z"
    },
    "papermill": {
     "duration": 0.402264,
     "end_time": "2025-10-11T07:48:16.185572",
     "exception": false,
     "start_time": "2025-10-11T07:48:15.783308",
     "status": "completed"
    },
    "tags": []
   },
   "outputs": [
    {
     "name": "stdout",
     "output_type": "stream",
     "text": [
      "Missing Ages in Train after imputation: 0\n",
      "Missing Ages in Test after imputation: 0\n"
     ]
    },
    {
     "data": {
      "image/png": "[encoded data removed]",
      "text/plain": [
       "<Figure size 1000x500 with 1 Axes>"
      ]
     },
     "metadata": {},
     "output_type": "display_data"
    }
   ],
   "source": [
    "# Check if any missing Age values remain\n",
    "print(\"Missing Ages in Train after imputation:\", train['Age'].isna().sum())\n",
    "print(\"Missing Ages in Test after imputation:\", test['Age'].isna().sum())\n",
    "\n",
    "# Optional: check distribution\n",
    "import matplotlib.pyplot as plt\n",
    "\n",
    "plt.figure(figsize=(10,5))\n",
    "plt.hist(train['Age'], bins=30, alpha=0.7, label='Train Age')\n",
    "plt.hist(test['Age'], bins=30, alpha=0.7, label='Test Age')\n",
    "plt.title('Age Distribution After Imputation')\n",
    "plt.xlabel('Age')\n",
    "plt.ylabel('Frequency')\n",
    "plt.legend()\n",
    "plt.show()\n"
   ]
  },
  {
   "cell_type": "code",
   "execution_count": 18,
   "id": "1572bdec",
   "metadata": {
    "execution": {
     "iopub.execute_input": "2025-10-11T07:48:16.198323Z",
     "iopub.status.busy": "2025-10-11T07:48:16.198044Z",
     "iopub.status.idle": "2025-10-11T07:48:16.213562Z",
     "shell.execute_reply": "2025-10-11T07:48:16.212798Z"
    },
    "papermill": {
     "duration": 0.023192,
     "end_time": "2025-10-11T07:48:16.214759",
     "exception": false,
     "start_time": "2025-10-11T07:48:16.191567",
     "status": "completed"
    },
    "tags": []
   },
   "outputs": [
    {
     "name": "stdout",
     "output_type": "stream",
     "text": [
      "PassengerId        0\n",
      "Pclass             0\n",
      "Name               0\n",
      "Sex                0\n",
      "Age                0\n",
      "SibSp              0\n",
      "Parch              0\n",
      "Ticket             0\n",
      "Fare               0\n",
      "Cabin            327\n",
      "Embarked           0\n",
      "FamilySize         0\n",
      "IsAlone            0\n",
      "Title              0\n",
      "FarePerPerson      0\n",
      "dtype: int64\n",
      "PassengerId        0\n",
      "Survived           0\n",
      "Pclass             0\n",
      "Name               0\n",
      "Sex                0\n",
      "Age                0\n",
      "SibSp              0\n",
      "Parch              0\n",
      "Ticket             0\n",
      "Fare               0\n",
      "Cabin            687\n",
      "Embarked           0\n",
      "FamilySize         0\n",
      "IsAlone            0\n",
      "Title              0\n",
      "FarePerPerson      0\n",
      "dtype: int64\n"
     ]
    }
   ],
   "source": [
    "# Extract title\n",
    "for df in [train, test]:\n",
    "    df['Title'] = df['Name'].str.extract(' ([A-Za-z]+)\\.', expand=False)\n",
    "\n",
    "# Map rare titles\n",
    "title_mapping = {\n",
    "    'Mr':0, 'Miss':1, 'Mrs':2, 'Master':3,\n",
    "    'Don':4, 'Rev':4, 'Dr':4, 'Mme':2, 'Ms':1, 'Major':4,\n",
    "    'Lady':4, 'Sir':4, 'Mlle':1, 'Col':4, 'Capt':4, 'Countess':4, 'Jonkheer':4, 'Dona':4\n",
    "}\n",
    "\n",
    "for df in [train, test]:\n",
    "    df['Title'] = df['Title'].map(title_mapping)\n",
    "\n",
    "train['FarePerPerson'] = train['Fare'] / train['FamilySize']\n",
    "test['FarePerPerson'] = test['Fare'] / test['FamilySize']\n",
    "\n",
    "for df in [test,train]:\n",
    "    print(df.isna().sum())\n"
   ]
  },
  {
   "cell_type": "code",
   "execution_count": 19,
   "id": "258bd346",
   "metadata": {
    "execution": {
     "iopub.execute_input": "2025-10-11T07:48:16.227914Z",
     "iopub.status.busy": "2025-10-11T07:48:16.227384Z",
     "iopub.status.idle": "2025-10-11T07:48:16.233761Z",
     "shell.execute_reply": "2025-10-11T07:48:16.232984Z"
    },
    "papermill": {
     "duration": 0.014128,
     "end_time": "2025-10-11T07:48:16.234973",
     "exception": false,
     "start_time": "2025-10-11T07:48:16.220845",
     "status": "completed"
    },
    "tags": []
   },
   "outputs": [],
   "source": [
    "drop_cols = ['PassengerId', 'Name', 'Ticket', 'Cabin','FamilySize', 'SibSp']\n",
    "\n",
    "X = train.drop(columns=drop_cols + ['Survived'])\n",
    "y = train['Survived']\n",
    "X_test = test.drop(columns=drop_cols)"
   ]
  },
  {
   "cell_type": "code",
   "execution_count": 20,
   "id": "f65e98a6",
   "metadata": {
    "execution": {
     "iopub.execute_input": "2025-10-11T07:48:16.247596Z",
     "iopub.status.busy": "2025-10-11T07:48:16.247329Z",
     "iopub.status.idle": "2025-10-11T07:48:16.254866Z",
     "shell.execute_reply": "2025-10-11T07:48:16.254066Z"
    },
    "papermill": {
     "duration": 0.015222,
     "end_time": "2025-10-11T07:48:16.256097",
     "exception": false,
     "start_time": "2025-10-11T07:48:16.240875",
     "status": "completed"
    },
    "tags": []
   },
   "outputs": [
    {
     "name": "stdout",
     "output_type": "stream",
     "text": [
      "Survived         1.000000\n",
      "Sex              0.543351\n",
      "Title            0.407753\n",
      "Fare             0.257307\n",
      "FarePerPerson    0.221600\n",
      "Embarked         0.111203\n",
      "Parch            0.081629\n",
      "Age             -0.060740\n",
      "IsAlone         -0.203367\n",
      "Pclass          -0.338481\n",
      "Name: Survived, dtype: float64\n"
     ]
    }
   ],
   "source": [
    "corr_with_target = train.drop(columns=drop_cols).corr()['Survived'].sort_values(ascending=False)\n",
    "print(corr_with_target)"
   ]
  },
  {
   "cell_type": "code",
   "execution_count": 21,
   "id": "0a71707d",
   "metadata": {
    "execution": {
     "iopub.execute_input": "2025-10-11T07:48:16.269107Z",
     "iopub.status.busy": "2025-10-11T07:48:16.268633Z",
     "iopub.status.idle": "2025-10-11T07:48:16.281332Z",
     "shell.execute_reply": "2025-10-11T07:48:16.280268Z"
    },
    "papermill": {
     "duration": 0.02069,
     "end_time": "2025-10-11T07:48:16.282731",
     "exception": false,
     "start_time": "2025-10-11T07:48:16.262041",
     "status": "completed"
    },
    "tags": []
   },
   "outputs": [
    {
     "name": "stdout",
     "output_type": "stream",
     "text": [
      "                 Pclass       Sex       Age     Parch      Fare  Embarked  \\\n",
      "Pclass         1.000000 -0.131900 -0.395769  0.018443 -0.549500  0.040138   \n",
      "Sex           -0.131900  1.000000 -0.094752  0.245489  0.182333  0.121266   \n",
      "Age           -0.395769 -0.094752  1.000000 -0.193289  0.113852 -0.016859   \n",
      "Parch          0.018443  0.245489 -0.193289  1.000000  0.216225 -0.080277   \n",
      "Fare          -0.549500  0.182333  0.113852  0.216225  1.000000  0.065492   \n",
      "Embarked       0.040138  0.121266 -0.016859 -0.080277  0.065492  1.000000   \n",
      "IsAlone        0.135207 -0.303646  0.189207 -0.583398 -0.271832  0.020660   \n",
      "Title         -0.173929  0.502713 -0.100878  0.315784  0.136310  0.048012   \n",
      "FarePerPerson -0.485079  0.115143  0.170403 -0.068978  0.840995  0.087892   \n",
      "\n",
      "                IsAlone     Title  FarePerPerson  \n",
      "Pclass         0.135207 -0.173929      -0.485079  \n",
      "Sex           -0.303646  0.502713       0.115143  \n",
      "Age            0.189207 -0.100878       0.170403  \n",
      "Parch         -0.583398  0.315784      -0.068978  \n",
      "Fare          -0.271832  0.136310       0.840995  \n",
      "Embarked       0.020660  0.048012       0.087892  \n",
      "IsAlone        1.000000 -0.405813       0.045603  \n",
      "Title         -0.405813  1.000000       0.027931  \n",
      "FarePerPerson  0.045603  0.027931       1.000000  \n",
      "                 Pclass       Sex       Age     Parch      Fare  Embarked  \\\n",
      "Pclass         1.000000 -0.108615 -0.510231  0.018721 -0.577488  0.031096   \n",
      "Sex           -0.108615  1.000000 -0.007372  0.159120  0.192225  0.126779   \n",
      "Age           -0.510231 -0.007372  1.000000 -0.070042  0.336328  0.051047   \n",
      "Parch          0.018721  0.159120 -0.070042  1.000000  0.230409 -0.125164   \n",
      "Fare          -0.577488  0.192225  0.336328  0.230409  1.000000  0.054349   \n",
      "Embarked       0.031096  0.126779  0.051047 -0.125164  0.054349  1.000000   \n",
      "IsAlone        0.173555 -0.244187 -0.004194 -0.495618 -0.283147  0.104214   \n",
      "Title         -0.119826  0.565539 -0.073662  0.302061  0.218283  0.031726   \n",
      "FarePerPerson -0.544560  0.165291  0.294369 -0.060313  0.818798  0.061344   \n",
      "\n",
      "                IsAlone     Title  FarePerPerson  \n",
      "Pclass         0.173555 -0.119826      -0.544560  \n",
      "Sex           -0.244187  0.565539       0.165291  \n",
      "Age           -0.004194 -0.073662       0.294369  \n",
      "Parch         -0.495618  0.302061      -0.060313  \n",
      "Fare          -0.283147  0.218283       0.818798  \n",
      "Embarked       0.104214  0.031726       0.061344  \n",
      "IsAlone        1.000000 -0.436558       0.035966  \n",
      "Title         -0.436558  1.000000       0.095005  \n",
      "FarePerPerson  0.035966  0.095005       1.000000  \n"
     ]
    }
   ],
   "source": [
    "for df in [X,X_test]:\n",
    "    # Compute correlation matrix\n",
    "    corr_matrix = df.corr()\n",
    "    print(corr_matrix)\n",
    "    "
   ]
  },
  {
   "cell_type": "code",
   "execution_count": 22,
   "id": "81e536f0",
   "metadata": {
    "execution": {
     "iopub.execute_input": "2025-10-11T07:48:16.296374Z",
     "iopub.status.busy": "2025-10-11T07:48:16.295694Z",
     "iopub.status.idle": "2025-10-11T07:48:17.050203Z",
     "shell.execute_reply": "2025-10-11T07:48:17.049384Z"
    },
    "papermill": {
     "duration": 0.763054,
     "end_time": "2025-10-11T07:48:17.051915",
     "exception": false,
     "start_time": "2025-10-11T07:48:16.288861",
     "status": "completed"
    },
    "tags": []
   },
   "outputs": [
    {
     "name": "stderr",
     "output_type": "stream",
     "text": [
      "/usr/local/lib/python3.11/dist-packages/matplotlib/colors.py:721: RuntimeWarning: invalid value encountered in less\n",
      "  xa[xa < 0] = -1\n"
     ]
    },
    {
     "data": {
      "image/png": "[encoded data removed]",
      "text/plain": [
       "<Figure size 640x480 with 2 Axes>"
      ]
     },
     "metadata": {},
     "output_type": "display_data"
    },
    {
     "name": "stderr",
     "output_type": "stream",
     "text": [
      "/usr/local/lib/python3.11/dist-packages/matplotlib/colors.py:721: RuntimeWarning: invalid value encountered in less\n",
      "  xa[xa < 0] = -1\n"
     ]
    },
    {
     "data": {
      "image/png": "[encoded data removed]",
      "text/plain": [
       "<Figure size 640x480 with 2 Axes>"
      ]
     },
     "metadata": {},
     "output_type": "display_data"
    }
   ],
   "source": [
    "for df in [X,X_test]:\n",
    "    # Compute correlation matrix\n",
    "    corr_matrix = df.corr()\n",
    "    sns.heatmap(corr_matrix, annot=True, cmap='coolwarm', center=0)\n",
    "    plt.title(\"Correlation Heatmap\")\n",
    "    plt.show()"
   ]
  },
  {
   "cell_type": "code",
   "execution_count": 23,
   "id": "d470a0ae",
   "metadata": {
    "execution": {
     "iopub.execute_input": "2025-10-11T07:48:17.072454Z",
     "iopub.status.busy": "2025-10-11T07:48:17.072096Z",
     "iopub.status.idle": "2025-10-11T07:48:17.333490Z",
     "shell.execute_reply": "2025-10-11T07:48:17.332806Z"
    },
    "papermill": {
     "duration": 0.273544,
     "end_time": "2025-10-11T07:48:17.335168",
     "exception": false,
     "start_time": "2025-10-11T07:48:17.061624",
     "status": "completed"
    },
    "tags": []
   },
   "outputs": [],
   "source": [
    "from sklearn.metrics import accuracy_score \n",
    "from xgboost import XGBClassifier \n",
    "\n",
    "X_train, X_val, y_train, y_val = train_test_split(X, y, test_size=0.2, random_state=42)"
   ]
  },
  {
   "cell_type": "code",
   "execution_count": 24,
   "id": "3fafe8f0",
   "metadata": {
    "execution": {
     "iopub.execute_input": "2025-10-11T07:48:17.355660Z",
     "iopub.status.busy": "2025-10-11T07:48:17.355364Z",
     "iopub.status.idle": "2025-10-11T07:48:18.151669Z",
     "shell.execute_reply": "2025-10-11T07:48:18.150044Z"
    },
    "papermill": {
     "duration": 0.807865,
     "end_time": "2025-10-11T07:48:18.153102",
     "exception": false,
     "start_time": "2025-10-11T07:48:17.345237",
     "status": "completed"
    },
    "tags": []
   },
   "outputs": [
    {
     "name": "stdout",
     "output_type": "stream",
     "text": [
      "Validation Accuracy=0.8436\n"
     ]
    }
   ],
   "source": [
    "# xgb_model = XGBClassifier(\n",
    "#     n_estimators=1000,\n",
    "#     max_depth=3,\n",
    "#     learning_rate=0.01,\n",
    "#     subsample=0.9,\n",
    "#     colsample_bytree=0.8,\n",
    "#     gamma=0.1,\n",
    "#     random_state=42,\n",
    "#     use_label_encoder=False,\n",
    "#     eval_metric='logloss'\n",
    "# )\n",
    "\n",
    "from xgboost import XGBClassifier\n",
    "from sklearn.metrics import accuracy_score\n",
    "    \n",
    "xgb_model = XGBClassifier(\n",
    "    n_estimators=2000,\n",
    "    learning_rate=0.01,\n",
    "    max_depth=4,\n",
    "    subsample=0.9,\n",
    "    colsample_bytree=0.8,\n",
    "    gamma=0.1,\n",
    "    random_state=42,\n",
    "    use_label_encoder=False,\n",
    "    eval_metric='logloss'\n",
    ")\n",
    "\n",
    "xgb_model.fit(X_train, y_train)\n",
    "y_pred = xgb_model.predict(X_val)\n",
    "acc = accuracy_score(y_val, y_pred)\n",
    "print(f\"Validation Accuracy={acc:.4f}\")"
   ]
  },
  {
   "cell_type": "code",
   "execution_count": 25,
   "id": "cc47cf48",
   "metadata": {
    "execution": {
     "iopub.execute_input": "2025-10-11T07:48:18.173202Z",
     "iopub.status.busy": "2025-10-11T07:48:18.172571Z",
     "iopub.status.idle": "2025-10-11T07:48:18.193096Z",
     "shell.execute_reply": "2025-10-11T07:48:18.191900Z"
    },
    "papermill": {
     "duration": 0.032238,
     "end_time": "2025-10-11T07:48:18.194681",
     "exception": false,
     "start_time": "2025-10-11T07:48:18.162443",
     "status": "completed"
    },
    "tags": []
   },
   "outputs": [
    {
     "name": "stdout",
     "output_type": "stream",
     "text": [
      "Submission file created: titanic_submission.csv\n"
     ]
    }
   ],
   "source": [
    "test_predictions = xgb_model.predict(X_test)\n",
    "\n",
    "# =========================\n",
    "# Create submission DataFrame\n",
    "# =========================\n",
    "submission = pd.DataFrame({\n",
    "    'PassengerId': test['PassengerId'],\n",
    "    'Survived': test_predictions\n",
    "})\n",
    "\n",
    "submission.to_csv('titanic_submission.csv', index=False)\n",
    "print(\"Submission file created: titanic_submission.csv\")"
   ]
  }
 ],
 "metadata": {
  "kaggle": {
   "accelerator": "none",
   "dataSources": [
    {
     "databundleVersionId": 26502,
     "sourceId": 3136,
     "sourceType": "competition"
    }
   ],
   "dockerImageVersionId": 31089,
   "isGpuEnabled": false,
   "isInternetEnabled": true,
   "language": "python",
   "sourceType": "notebook"
  },
  "kernelspec": {
   "display_name": "Python 3",
   "language": "python",
   "name": "python3"
  },
  "language_info": {
   "codemirror_mode": {
    "name": "ipython",
    "version": 3
   },
   "file_extension": ".py",
   "mimetype": "text/x-python",
   "name": "python",
   "nbconvert_exporter": "python",
   "pygments_lexer": "ipython3",
   "version": "3.11.13"
  },
  "papermill": {
   "default_parameters": {},
   "duration": 33.930772,
   "end_time": "2025-10-11T07:48:20.823081",
   "environment_variables": {},
   "exception": null,
   "input_path": "__notebook__.ipynb",
   "output_path": "__notebook__.ipynb",
   "parameters": {},
   "start_time": "2025-10-11T07:47:46.892309",
   "version": "2.6.0"
  }
 },
 "nbformat": 4,
 "nbformat_minor": 5
}
