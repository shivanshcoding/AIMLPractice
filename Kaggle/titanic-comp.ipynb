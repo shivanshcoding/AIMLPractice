{
 "cells": [
  {
   "cell_type": "code",
   "execution_count": 1,
   "id": "27658403",
   "metadata": {
    "_cell_guid": "b1076dfc-b9ad-4769-8c92-a6c4dae69d19",
    "_uuid": "8f2839f25d086af736a60e9eeb907d3b93b6e0e5",
    "execution": {
     "iopub.execute_input": "2025-10-11T10:41:35.152778Z",
     "iopub.status.busy": "2025-10-11T10:41:35.152340Z",
     "iopub.status.idle": "2025-10-11T10:41:37.332056Z",
     "shell.execute_reply": "2025-10-11T10:41:37.331084Z"
    },
    "papermill": {
     "duration": 2.188554,
     "end_time": "2025-10-11T10:41:37.333744",
     "exception": false,
     "start_time": "2025-10-11T10:41:35.145190",
     "status": "completed"
    },
    "tags": []
   },
   "outputs": [
    {
     "name": "stdout",
     "output_type": "stream",
     "text": [
      "/kaggle/input/titanic/train.csv\n",
      "/kaggle/input/titanic/test.csv\n",
      "/kaggle/input/titanic/gender_submission.csv\n"
     ]
    }
   ],
   "source": [
    "# This Python 3 environment comes with many helpful analytics libraries installed\n",
    "# It is defined by the kaggle/python Docker image: https://github.com/kaggle/docker-python\n",
    "# For example, here's several helpful packages to load\n",
    "\n",
    "import numpy as np # linear algebra\n",
    "import pandas as pd # data processing, CSV file I/O (e.g. pd.read_csv)\n",
    "\n",
    "# Input data files are available in the read-only \"../input/\" directory\n",
    "# For example, running this (by clicking run or pressing Shift+Enter) will list all files under the input directory\n",
    "\n",
    "import os\n",
    "for dirname, _, filenames in os.walk('/kaggle/input'):\n",
    "    for filename in filenames:\n",
    "        print(os.path.join(dirname, filename))\n",
    "\n",
    "# You can write up to 20GB to the current directory (/kaggle/working/) that gets preserved as output when you create a version using \"Save & Run All\" \n",
    "# You can also write temporary files to /kaggle/temp/, but they won't be saved outside of the current session"
   ]
  },
  {
   "cell_type": "code",
   "execution_count": 2,
   "id": "a358ffdc",
   "metadata": {
    "execution": {
     "iopub.execute_input": "2025-10-11T10:41:37.345623Z",
     "iopub.status.busy": "2025-10-11T10:41:37.345180Z",
     "iopub.status.idle": "2025-10-11T10:41:40.364729Z",
     "shell.execute_reply": "2025-10-11T10:41:40.363660Z"
    },
    "papermill": {
     "duration": 3.027202,
     "end_time": "2025-10-11T10:41:40.366548",
     "exception": false,
     "start_time": "2025-10-11T10:41:37.339346",
     "status": "completed"
    },
    "tags": []
   },
   "outputs": [],
   "source": [
    "import matplotlib.pyplot as plt\n",
    "import seaborn as sns\n",
    "\n",
    "from sklearn.preprocessing import LabelEncoder, StandardScaler\n",
    "from sklearn.impute import SimpleImputer\n",
    "from sklearn.model_selection import train_test_split"
   ]
  },
  {
   "cell_type": "code",
   "execution_count": 3,
   "id": "5fe323dd",
   "metadata": {
    "execution": {
     "iopub.execute_input": "2025-10-11T10:41:40.378081Z",
     "iopub.status.busy": "2025-10-11T10:41:40.377636Z",
     "iopub.status.idle": "2025-10-11T10:41:40.430206Z",
     "shell.execute_reply": "2025-10-11T10:41:40.429225Z"
    },
    "papermill": {
     "duration": 0.060733,
     "end_time": "2025-10-11T10:41:40.432216",
     "exception": false,
     "start_time": "2025-10-11T10:41:40.371483",
     "status": "completed"
    },
    "tags": []
   },
   "outputs": [
    {
     "data": {
      "text/html": [
       "<div>\n",
       "<style scoped>\n",
       "    .dataframe tbody tr th:only-of-type {\n",
       "        vertical-align: middle;\n",
       "    }\n",
       "\n",
       "    .dataframe tbody tr th {\n",
       "        vertical-align: top;\n",
       "    }\n",
       "\n",
       "    .dataframe thead th {\n",
       "        text-align: right;\n",
       "    }\n",
       "</style>\n",
       "<table border=\"1\" class=\"dataframe\">\n",
       "  <thead>\n",
       "    <tr style=\"text-align: right;\">\n",
       "      <th></th>\n",
       "      <th>PassengerId</th>\n",
       "      <th>Survived</th>\n",
       "      <th>Pclass</th>\n",
       "      <th>Name</th>\n",
       "      <th>Sex</th>\n",
       "      <th>Age</th>\n",
       "      <th>SibSp</th>\n",
       "      <th>Parch</th>\n",
       "      <th>Ticket</th>\n",
       "      <th>Fare</th>\n",
       "      <th>Cabin</th>\n",
       "      <th>Embarked</th>\n",
       "    </tr>\n",
       "  </thead>\n",
       "  <tbody>\n",
       "    <tr>\n",
       "      <th>0</th>\n",
       "      <td>1</td>\n",
       "      <td>0</td>\n",
       "      <td>3</td>\n",
       "      <td>Braund, Mr. Owen Harris</td>\n",
       "      <td>male</td>\n",
       "      <td>22.0</td>\n",
       "      <td>1</td>\n",
       "      <td>0</td>\n",
       "      <td>A/5 21171</td>\n",
       "      <td>7.2500</td>\n",
       "      <td>NaN</td>\n",
       "      <td>S</td>\n",
       "    </tr>\n",
       "    <tr>\n",
       "      <th>1</th>\n",
       "      <td>2</td>\n",
       "      <td>1</td>\n",
       "      <td>1</td>\n",
       "      <td>Cumings, Mrs. John Bradley (Florence Briggs Th...</td>\n",
       "      <td>female</td>\n",
       "      <td>38.0</td>\n",
       "      <td>1</td>\n",
       "      <td>0</td>\n",
       "      <td>PC 17599</td>\n",
       "      <td>71.2833</td>\n",
       "      <td>C85</td>\n",
       "      <td>C</td>\n",
       "    </tr>\n",
       "    <tr>\n",
       "      <th>2</th>\n",
       "      <td>3</td>\n",
       "      <td>1</td>\n",
       "      <td>3</td>\n",
       "      <td>Heikkinen, Miss. Laina</td>\n",
       "      <td>female</td>\n",
       "      <td>26.0</td>\n",
       "      <td>0</td>\n",
       "      <td>0</td>\n",
       "      <td>STON/O2. 3101282</td>\n",
       "      <td>7.9250</td>\n",
       "      <td>NaN</td>\n",
       "      <td>S</td>\n",
       "    </tr>\n",
       "    <tr>\n",
       "      <th>3</th>\n",
       "      <td>4</td>\n",
       "      <td>1</td>\n",
       "      <td>1</td>\n",
       "      <td>Futrelle, Mrs. Jacques Heath (Lily May Peel)</td>\n",
       "      <td>female</td>\n",
       "      <td>35.0</td>\n",
       "      <td>1</td>\n",
       "      <td>0</td>\n",
       "      <td>113803</td>\n",
       "      <td>53.1000</td>\n",
       "      <td>C123</td>\n",
       "      <td>S</td>\n",
       "    </tr>\n",
       "    <tr>\n",
       "      <th>4</th>\n",
       "      <td>5</td>\n",
       "      <td>0</td>\n",
       "      <td>3</td>\n",
       "      <td>Allen, Mr. William Henry</td>\n",
       "      <td>male</td>\n",
       "      <td>35.0</td>\n",
       "      <td>0</td>\n",
       "      <td>0</td>\n",
       "      <td>373450</td>\n",
       "      <td>8.0500</td>\n",
       "      <td>NaN</td>\n",
       "      <td>S</td>\n",
       "    </tr>\n",
       "  </tbody>\n",
       "</table>\n",
       "</div>"
      ],
      "text/plain": [
       "   PassengerId  Survived  Pclass  \\\n",
       "0            1         0       3   \n",
       "1            2         1       1   \n",
       "2            3         1       3   \n",
       "3            4         1       1   \n",
       "4            5         0       3   \n",
       "\n",
       "                                                Name     Sex   Age  SibSp  \\\n",
       "0                            Braund, Mr. Owen Harris    male  22.0      1   \n",
       "1  Cumings, Mrs. John Bradley (Florence Briggs Th...  female  38.0      1   \n",
       "2                             Heikkinen, Miss. Laina  female  26.0      0   \n",
       "3       Futrelle, Mrs. Jacques Heath (Lily May Peel)  female  35.0      1   \n",
       "4                           Allen, Mr. William Henry    male  35.0      0   \n",
       "\n",
       "   Parch            Ticket     Fare Cabin Embarked  \n",
       "0      0         A/5 21171   7.2500   NaN        S  \n",
       "1      0          PC 17599  71.2833   C85        C  \n",
       "2      0  STON/O2. 3101282   7.9250   NaN        S  \n",
       "3      0            113803  53.1000  C123        S  \n",
       "4      0            373450   8.0500   NaN        S  "
      ]
     },
     "execution_count": 3,
     "metadata": {},
     "output_type": "execute_result"
    }
   ],
   "source": [
    "file_path_train = \"/kaggle/input/titanic/train.csv\"\n",
    "train = pd.read_csv(file_path_train)\n",
    "train.head()"
   ]
  },
  {
   "cell_type": "code",
   "execution_count": 4,
   "id": "2a8d5565",
   "metadata": {
    "execution": {
     "iopub.execute_input": "2025-10-11T10:41:40.443644Z",
     "iopub.status.busy": "2025-10-11T10:41:40.443245Z",
     "iopub.status.idle": "2025-10-11T10:41:40.464876Z",
     "shell.execute_reply": "2025-10-11T10:41:40.463853Z"
    },
    "papermill": {
     "duration": 0.029046,
     "end_time": "2025-10-11T10:41:40.466434",
     "exception": false,
     "start_time": "2025-10-11T10:41:40.437388",
     "status": "completed"
    },
    "tags": []
   },
   "outputs": [
    {
     "data": {
      "text/html": [
       "<div>\n",
       "<style scoped>\n",
       "    .dataframe tbody tr th:only-of-type {\n",
       "        vertical-align: middle;\n",
       "    }\n",
       "\n",
       "    .dataframe tbody tr th {\n",
       "        vertical-align: top;\n",
       "    }\n",
       "\n",
       "    .dataframe thead th {\n",
       "        text-align: right;\n",
       "    }\n",
       "</style>\n",
       "<table border=\"1\" class=\"dataframe\">\n",
       "  <thead>\n",
       "    <tr style=\"text-align: right;\">\n",
       "      <th></th>\n",
       "      <th>PassengerId</th>\n",
       "      <th>Pclass</th>\n",
       "      <th>Name</th>\n",
       "      <th>Sex</th>\n",
       "      <th>Age</th>\n",
       "      <th>SibSp</th>\n",
       "      <th>Parch</th>\n",
       "      <th>Ticket</th>\n",
       "      <th>Fare</th>\n",
       "      <th>Cabin</th>\n",
       "      <th>Embarked</th>\n",
       "    </tr>\n",
       "  </thead>\n",
       "  <tbody>\n",
       "    <tr>\n",
       "      <th>0</th>\n",
       "      <td>892</td>\n",
       "      <td>3</td>\n",
       "      <td>Kelly, Mr. James</td>\n",
       "      <td>male</td>\n",
       "      <td>34.5</td>\n",
       "      <td>0</td>\n",
       "      <td>0</td>\n",
       "      <td>330911</td>\n",
       "      <td>7.8292</td>\n",
       "      <td>NaN</td>\n",
       "      <td>Q</td>\n",
       "    </tr>\n",
       "    <tr>\n",
       "      <th>1</th>\n",
       "      <td>893</td>\n",
       "      <td>3</td>\n",
       "      <td>Wilkes, Mrs. James (Ellen Needs)</td>\n",
       "      <td>female</td>\n",
       "      <td>47.0</td>\n",
       "      <td>1</td>\n",
       "      <td>0</td>\n",
       "      <td>363272</td>\n",
       "      <td>7.0000</td>\n",
       "      <td>NaN</td>\n",
       "      <td>S</td>\n",
       "    </tr>\n",
       "    <tr>\n",
       "      <th>2</th>\n",
       "      <td>894</td>\n",
       "      <td>2</td>\n",
       "      <td>Myles, Mr. Thomas Francis</td>\n",
       "      <td>male</td>\n",
       "      <td>62.0</td>\n",
       "      <td>0</td>\n",
       "      <td>0</td>\n",
       "      <td>240276</td>\n",
       "      <td>9.6875</td>\n",
       "      <td>NaN</td>\n",
       "      <td>Q</td>\n",
       "    </tr>\n",
       "    <tr>\n",
       "      <th>3</th>\n",
       "      <td>895</td>\n",
       "      <td>3</td>\n",
       "      <td>Wirz, Mr. Albert</td>\n",
       "      <td>male</td>\n",
       "      <td>27.0</td>\n",
       "      <td>0</td>\n",
       "      <td>0</td>\n",
       "      <td>315154</td>\n",
       "      <td>8.6625</td>\n",
       "      <td>NaN</td>\n",
       "      <td>S</td>\n",
       "    </tr>\n",
       "    <tr>\n",
       "      <th>4</th>\n",
       "      <td>896</td>\n",
       "      <td>3</td>\n",
       "      <td>Hirvonen, Mrs. Alexander (Helga E Lindqvist)</td>\n",
       "      <td>female</td>\n",
       "      <td>22.0</td>\n",
       "      <td>1</td>\n",
       "      <td>1</td>\n",
       "      <td>3101298</td>\n",
       "      <td>12.2875</td>\n",
       "      <td>NaN</td>\n",
       "      <td>S</td>\n",
       "    </tr>\n",
       "  </tbody>\n",
       "</table>\n",
       "</div>"
      ],
      "text/plain": [
       "   PassengerId  Pclass                                          Name     Sex  \\\n",
       "0          892       3                              Kelly, Mr. James    male   \n",
       "1          893       3              Wilkes, Mrs. James (Ellen Needs)  female   \n",
       "2          894       2                     Myles, Mr. Thomas Francis    male   \n",
       "3          895       3                              Wirz, Mr. Albert    male   \n",
       "4          896       3  Hirvonen, Mrs. Alexander (Helga E Lindqvist)  female   \n",
       "\n",
       "    Age  SibSp  Parch   Ticket     Fare Cabin Embarked  \n",
       "0  34.5      0      0   330911   7.8292   NaN        Q  \n",
       "1  47.0      1      0   363272   7.0000   NaN        S  \n",
       "2  62.0      0      0   240276   9.6875   NaN        Q  \n",
       "3  27.0      0      0   315154   8.6625   NaN        S  \n",
       "4  22.0      1      1  3101298  12.2875   NaN        S  "
      ]
     },
     "execution_count": 4,
     "metadata": {},
     "output_type": "execute_result"
    }
   ],
   "source": [
    "file_path_test = \"/kaggle/input/titanic/test.csv\"\n",
    "test = pd.read_csv(file_path_test)\n",
    "test.head()"
   ]
  },
  {
   "cell_type": "code",
   "execution_count": 5,
   "id": "2f56f3b7",
   "metadata": {
    "execution": {
     "iopub.execute_input": "2025-10-11T10:41:40.478118Z",
     "iopub.status.busy": "2025-10-11T10:41:40.477802Z",
     "iopub.status.idle": "2025-10-11T10:41:40.486398Z",
     "shell.execute_reply": "2025-10-11T10:41:40.485630Z"
    },
    "papermill": {
     "duration": 0.016367,
     "end_time": "2025-10-11T10:41:40.488004",
     "exception": false,
     "start_time": "2025-10-11T10:41:40.471637",
     "status": "completed"
    },
    "tags": []
   },
   "outputs": [
    {
     "data": {
      "text/plain": [
       "PassengerId      0\n",
       "Survived         0\n",
       "Pclass           0\n",
       "Name             0\n",
       "Sex              0\n",
       "Age            177\n",
       "SibSp            0\n",
       "Parch            0\n",
       "Ticket           0\n",
       "Fare             0\n",
       "Cabin          687\n",
       "Embarked         2\n",
       "dtype: int64"
      ]
     },
     "execution_count": 5,
     "metadata": {},
     "output_type": "execute_result"
    }
   ],
   "source": [
    "train.isna().sum()"
   ]
  },
  {
   "cell_type": "code",
   "execution_count": 6,
   "id": "f28a91e5",
   "metadata": {
    "execution": {
     "iopub.execute_input": "2025-10-11T10:41:40.499983Z",
     "iopub.status.busy": "2025-10-11T10:41:40.499643Z",
     "iopub.status.idle": "2025-10-11T10:41:40.508715Z",
     "shell.execute_reply": "2025-10-11T10:41:40.507327Z"
    },
    "papermill": {
     "duration": 0.017422,
     "end_time": "2025-10-11T10:41:40.510812",
     "exception": false,
     "start_time": "2025-10-11T10:41:40.493390",
     "status": "completed"
    },
    "tags": []
   },
   "outputs": [
    {
     "data": {
      "text/plain": [
       "PassengerId      0\n",
       "Pclass           0\n",
       "Name             0\n",
       "Sex              0\n",
       "Age             86\n",
       "SibSp            0\n",
       "Parch            0\n",
       "Ticket           0\n",
       "Fare             1\n",
       "Cabin          327\n",
       "Embarked         0\n",
       "dtype: int64"
      ]
     },
     "execution_count": 6,
     "metadata": {},
     "output_type": "execute_result"
    }
   ],
   "source": [
    "test.isna().sum()"
   ]
  },
  {
   "cell_type": "code",
   "execution_count": 7,
   "id": "e52d77af",
   "metadata": {
    "execution": {
     "iopub.execute_input": "2025-10-11T10:41:40.524245Z",
     "iopub.status.busy": "2025-10-11T10:41:40.523897Z",
     "iopub.status.idle": "2025-10-11T10:41:40.535622Z",
     "shell.execute_reply": "2025-10-11T10:41:40.534542Z"
    },
    "papermill": {
     "duration": 0.021273,
     "end_time": "2025-10-11T10:41:40.537589",
     "exception": false,
     "start_time": "2025-10-11T10:41:40.516316",
     "status": "completed"
    },
    "tags": []
   },
   "outputs": [],
   "source": [
    "# 3.3 Family size\n",
    "for df in [train, test]:\n",
    "    df['FamilySize'] = df['SibSp'] + df['Parch'] + 1\n",
    "    df['IsAlone'] = np.where(df['FamilySize'] == 1, 1, 0)"
   ]
  },
  {
   "cell_type": "code",
   "execution_count": 8,
   "id": "78bd2b56",
   "metadata": {
    "execution": {
     "iopub.execute_input": "2025-10-11T10:41:40.551893Z",
     "iopub.status.busy": "2025-10-11T10:41:40.550822Z",
     "iopub.status.idle": "2025-10-11T10:41:40.559486Z",
     "shell.execute_reply": "2025-10-11T10:41:40.558371Z"
    },
    "papermill": {
     "duration": 0.017732,
     "end_time": "2025-10-11T10:41:40.561207",
     "exception": false,
     "start_time": "2025-10-11T10:41:40.543475",
     "status": "completed"
    },
    "tags": []
   },
   "outputs": [
    {
     "data": {
      "text/plain": [
       "PassengerId      0\n",
       "Survived         0\n",
       "Pclass           0\n",
       "Name             0\n",
       "Sex              0\n",
       "Age            177\n",
       "SibSp            0\n",
       "Parch            0\n",
       "Ticket           0\n",
       "Fare             0\n",
       "Cabin          687\n",
       "Embarked         2\n",
       "FamilySize       0\n",
       "IsAlone          0\n",
       "dtype: int64"
      ]
     },
     "execution_count": 8,
     "metadata": {},
     "output_type": "execute_result"
    }
   ],
   "source": [
    "train.isna().sum()"
   ]
  },
  {
   "cell_type": "code",
   "execution_count": 9,
   "id": "5add1226",
   "metadata": {
    "execution": {
     "iopub.execute_input": "2025-10-11T10:41:40.574196Z",
     "iopub.status.busy": "2025-10-11T10:41:40.573894Z",
     "iopub.status.idle": "2025-10-11T10:41:40.581850Z",
     "shell.execute_reply": "2025-10-11T10:41:40.580926Z"
    },
    "papermill": {
     "duration": 0.016464,
     "end_time": "2025-10-11T10:41:40.583676",
     "exception": false,
     "start_time": "2025-10-11T10:41:40.567212",
     "status": "completed"
    },
    "tags": []
   },
   "outputs": [
    {
     "data": {
      "text/plain": [
       "PassengerId      0\n",
       "Pclass           0\n",
       "Name             0\n",
       "Sex              0\n",
       "Age             86\n",
       "SibSp            0\n",
       "Parch            0\n",
       "Ticket           0\n",
       "Fare             1\n",
       "Cabin          327\n",
       "Embarked         0\n",
       "FamilySize       0\n",
       "IsAlone          0\n",
       "dtype: int64"
      ]
     },
     "execution_count": 9,
     "metadata": {},
     "output_type": "execute_result"
    }
   ],
   "source": [
    "test.isna().sum()"
   ]
  },
  {
   "cell_type": "code",
   "execution_count": 10,
   "id": "65ce2dbd",
   "metadata": {
    "execution": {
     "iopub.execute_input": "2025-10-11T10:41:40.595938Z",
     "iopub.status.busy": "2025-10-11T10:41:40.595638Z",
     "iopub.status.idle": "2025-10-11T10:41:40.610764Z",
     "shell.execute_reply": "2025-10-11T10:41:40.609849Z"
    },
    "papermill": {
     "duration": 0.023161,
     "end_time": "2025-10-11T10:41:40.612336",
     "exception": false,
     "start_time": "2025-10-11T10:41:40.589175",
     "status": "completed"
    },
    "tags": []
   },
   "outputs": [
    {
     "data": {
      "text/plain": [
       "PassengerId      0\n",
       "Survived         0\n",
       "Pclass           0\n",
       "Name             0\n",
       "Sex              0\n",
       "Age            177\n",
       "SibSp            0\n",
       "Parch            0\n",
       "Ticket           0\n",
       "Fare             0\n",
       "Cabin          687\n",
       "Embarked         0\n",
       "FamilySize       0\n",
       "IsAlone          0\n",
       "dtype: int64"
      ]
     },
     "execution_count": 10,
     "metadata": {},
     "output_type": "execute_result"
    }
   ],
   "source": [
    "# print(train[train['Embarked'].isna()])\n",
    "train.loc[train['PassengerId'].isin([62, 830]), 'Embarked'] = 'C'\n",
    "train.isna().sum()"
   ]
  },
  {
   "cell_type": "code",
   "execution_count": 11,
   "id": "412b41bf",
   "metadata": {
    "execution": {
     "iopub.execute_input": "2025-10-11T10:41:40.626148Z",
     "iopub.status.busy": "2025-10-11T10:41:40.625838Z",
     "iopub.status.idle": "2025-10-11T10:41:40.638870Z",
     "shell.execute_reply": "2025-10-11T10:41:40.637670Z"
    },
    "papermill": {
     "duration": 0.022005,
     "end_time": "2025-10-11T10:41:40.641149",
     "exception": false,
     "start_time": "2025-10-11T10:41:40.619144",
     "status": "completed"
    },
    "tags": []
   },
   "outputs": [],
   "source": [
    "missing_fare_index = test[test['Fare'].isna()].index\n",
    "# print(test.loc[missing_fare_index])\n",
    "for idx in missing_fare_index:\n",
    "    pclass = test.loc[idx, 'Pclass']\n",
    "    median_fare = test[test['Pclass'] == pclass]['Fare'].median()\n",
    "    test.loc[idx, 'Fare'] = median_fare"
   ]
  },
  {
   "cell_type": "code",
   "execution_count": 12,
   "id": "bc031809",
   "metadata": {
    "execution": {
     "iopub.execute_input": "2025-10-11T10:41:40.654491Z",
     "iopub.status.busy": "2025-10-11T10:41:40.653974Z",
     "iopub.status.idle": "2025-10-11T10:41:40.663529Z",
     "shell.execute_reply": "2025-10-11T10:41:40.662204Z"
    },
    "papermill": {
     "duration": 0.017889,
     "end_time": "2025-10-11T10:41:40.665288",
     "exception": false,
     "start_time": "2025-10-11T10:41:40.647399",
     "status": "completed"
    },
    "tags": []
   },
   "outputs": [
    {
     "data": {
      "text/plain": [
       "PassengerId      0\n",
       "Pclass           0\n",
       "Name             0\n",
       "Sex              0\n",
       "Age             86\n",
       "SibSp            0\n",
       "Parch            0\n",
       "Ticket           0\n",
       "Fare             0\n",
       "Cabin          327\n",
       "Embarked         0\n",
       "FamilySize       0\n",
       "IsAlone          0\n",
       "dtype: int64"
      ]
     },
     "execution_count": 12,
     "metadata": {},
     "output_type": "execute_result"
    }
   ],
   "source": [
    "test.isna().sum()"
   ]
  },
  {
   "cell_type": "code",
   "execution_count": 13,
   "id": "9bb18645",
   "metadata": {
    "execution": {
     "iopub.execute_input": "2025-10-11T10:41:40.678840Z",
     "iopub.status.busy": "2025-10-11T10:41:40.678480Z",
     "iopub.status.idle": "2025-10-11T10:41:40.689186Z",
     "shell.execute_reply": "2025-10-11T10:41:40.688090Z"
    },
    "papermill": {
     "duration": 0.020229,
     "end_time": "2025-10-11T10:41:40.691236",
     "exception": false,
     "start_time": "2025-10-11T10:41:40.671007",
     "status": "completed"
    },
    "tags": []
   },
   "outputs": [
    {
     "name": "stdout",
     "output_type": "stream",
     "text": [
      "['male' 'female']\n",
      "['male' 'female']\n",
      "['S' 'C' 'Q']\n",
      "['Q' 'S' 'C']\n"
     ]
    }
   ],
   "source": [
    "print(train['Sex'].unique())\n",
    "print(test['Sex'].unique())\n",
    "\n",
    "print(train['Embarked'].unique())\n",
    "print(test['Embarked'].unique())\n"
   ]
  },
  {
   "cell_type": "code",
   "execution_count": 14,
   "id": "8a364901",
   "metadata": {
    "execution": {
     "iopub.execute_input": "2025-10-11T10:41:40.705910Z",
     "iopub.status.busy": "2025-10-11T10:41:40.705469Z",
     "iopub.status.idle": "2025-10-11T10:41:40.717487Z",
     "shell.execute_reply": "2025-10-11T10:41:40.715520Z"
    },
    "papermill": {
     "duration": 0.022694,
     "end_time": "2025-10-11T10:41:40.720157",
     "exception": false,
     "start_time": "2025-10-11T10:41:40.697463",
     "status": "completed"
    },
    "tags": []
   },
   "outputs": [],
   "source": [
    "mapping = {'S':0, 'C':1, 'Q':2}\n",
    "for df in [train, test]:\n",
    "    df['Sex'] = df['Sex'].map({'male':0, 'female':1})\n",
    "    df['Embarked'] = df['Embarked'].map(mapping)"
   ]
  },
  {
   "cell_type": "code",
   "execution_count": 15,
   "id": "5a758c0b",
   "metadata": {
    "execution": {
     "iopub.execute_input": "2025-10-11T10:41:40.733858Z",
     "iopub.status.busy": "2025-10-11T10:41:40.733475Z",
     "iopub.status.idle": "2025-10-11T10:41:40.738952Z",
     "shell.execute_reply": "2025-10-11T10:41:40.737549Z"
    },
    "papermill": {
     "duration": 0.014705,
     "end_time": "2025-10-11T10:41:40.741056",
     "exception": false,
     "start_time": "2025-10-11T10:41:40.726351",
     "status": "completed"
    },
    "tags": []
   },
   "outputs": [],
   "source": [
    "# age_features = ['Pclass', 'Sex', 'SibSp', 'Parch', 'Fare', 'Embarked', 'FamilySize', 'IsAlone']\n",
    "\n",
    "# train_known_age = train[train['Age'].notna()]\n",
    "# train_missing_age = train[train['Age'].isna()]\n",
    "\n",
    "# from sklearn.ensemble import RandomForestRegressor\n",
    "\n",
    "# age_model = RandomForestRegressor(n_estimators=100, random_state=42)\n",
    "# age_model.fit(train_known_age[age_features], train_known_age['Age'])\n",
    "\n",
    "# train.loc[train['Age'].isna(), 'Age'] = age_model.predict(train_missing_age[age_features])\n",
    "# test_missing_age = test[test['Age'].isna()]\n",
    "# test.loc[test['Age'].isna(), 'Age'] = age_model.predict(test_missing_age[age_features])\n",
    "\n"
   ]
  },
  {
   "cell_type": "code",
   "execution_count": 16,
   "id": "c27735b2",
   "metadata": {
    "execution": {
     "iopub.execute_input": "2025-10-11T10:41:40.754191Z",
     "iopub.status.busy": "2025-10-11T10:41:40.753867Z",
     "iopub.status.idle": "2025-10-11T10:41:40.760068Z",
     "shell.execute_reply": "2025-10-11T10:41:40.758777Z"
    },
    "papermill": {
     "duration": 0.014928,
     "end_time": "2025-10-11T10:41:40.761775",
     "exception": false,
     "start_time": "2025-10-11T10:41:40.746847",
     "status": "completed"
    },
    "tags": []
   },
   "outputs": [],
   "source": [
    "# import pandas as pd\n",
    "# import numpy as np\n",
    "# from sklearn.ensemble import HistGradientBoostingRegressor\n",
    "# from sklearn.model_selection import RandomizedSearchCV\n",
    "# from sklearn.preprocessing import OneHotEncoder, StandardScaler, PolynomialFeatures\n",
    "# from sklearn.compose import ColumnTransformer\n",
    "# from sklearn.pipeline import Pipeline\n",
    "# from sklearn.impute import SimpleImputer\n",
    "# from scipy.stats import randint, uniform\n",
    "\n",
    "# # ✅ 1. Features to use for age prediction\n",
    "# age_features = ['Pclass', 'Sex', 'Fare', 'Embarked', 'FamilySize', 'IsAlone']\n",
    "\n",
    "# # ✅ 2. Separate rows with known and missing Age\n",
    "# train_known_age = train[train['Age'].notna()]\n",
    "# test_known_age = test[test['Age'].notna()]\n",
    "# train_missing_age = train[train['Age'].isna()]\n",
    "# test_missing_age = test[test['Age'].isna()]\n",
    "\n",
    "# # ✅ 3. Identify categorical & numerical columns\n",
    "# cat_cols = ['Sex', 'Embarked', 'IsAlone']\n",
    "# num_cols = ['Pclass', 'Fare', 'FamilySize']\n",
    "\n",
    "# # ✅ 4. Preprocessing pipelines\n",
    "# num_transformer = Pipeline([\n",
    "#     ('imputer', SimpleImputer(strategy='median')),\n",
    "#     ('scaler', StandardScaler()),\n",
    "#     ('poly', PolynomialFeatures(degree=2, include_bias=False))  # adds interaction & squared terms\n",
    "# ])\n",
    "\n",
    "# cat_transformer = Pipeline([\n",
    "#     ('imputer', SimpleImputer(strategy='most_frequent')),\n",
    "#     ('onehot', OneHotEncoder(handle_unknown='ignore'))\n",
    "# ])\n",
    "\n",
    "# preprocessor = ColumnTransformer([\n",
    "#     ('num', num_transformer, num_cols),\n",
    "#     ('cat', cat_transformer, cat_cols)\n",
    "# ])\n",
    "\n",
    "# # ✅ 5. Regressor model — HistGradientBoosting often performs better than RF\n",
    "# model = HistGradientBoostingRegressor(random_state=42)\n",
    "\n",
    "# # ✅ 6. Build pipeline\n",
    "# pipe = Pipeline([\n",
    "#     ('preprocessor', preprocessor),\n",
    "#     ('regressor', model)\n",
    "# ])\n",
    "\n",
    "# # ✅ 7. Hyperparameter tuning with RandomizedSearchCV\n",
    "# param_dist = {\n",
    "#     'regressor__max_depth': randint(3, 10),\n",
    "#     'regressor__learning_rate': uniform(0.01, 0.2),\n",
    "#     'regressor__max_iter': randint(100, 400),\n",
    "#     'regressor__l2_regularization': uniform(0.0, 0.5)\n",
    "# }\n",
    "\n",
    "# search = RandomizedSearchCV(\n",
    "#     pipe,\n",
    "#     param_distributions=param_dist,\n",
    "#     n_iter=30,\n",
    "#     cv=3,\n",
    "#     n_jobs=-1,\n",
    "#     scoring='neg_mean_absolute_error',\n",
    "#     random_state=42,\n",
    "#     verbose=1\n",
    "# )\n",
    "\n",
    "# # ✅ 8. Train on rows with known Age\n",
    "# search.fit(train_known_age[age_features], train_known_age['Age'])\n",
    "# search.fit(test_known_age[age_features], test_known_age['Age'])\n",
    "# best_model = search.best_estimator_\n",
    "# print(\"Best Params for Age Model:\", search.best_params_)\n",
    "\n",
    "# # ✅ 9. Predict missing Age for TRAIN\n",
    "# if not train_missing_age.empty:\n",
    "#     train.loc[train['Age'].isna(), 'Age'] = best_model.predict(train_missing_age[age_features])\n",
    "\n",
    "# # ✅ 10. Predict missing Age for TEST\n",
    "# test_missing_age = test[test['Age'].isna()]\n",
    "# if not test_missing_age.empty:\n",
    "#     test.loc[test['Age'].isna(), 'Age'] = best_model.predict(test_missing_age[age_features])\n",
    "\n"
   ]
  },
  {
   "cell_type": "code",
   "execution_count": 17,
   "id": "eb9c5d82",
   "metadata": {
    "execution": {
     "iopub.execute_input": "2025-10-11T10:41:40.776029Z",
     "iopub.status.busy": "2025-10-11T10:41:40.774390Z",
     "iopub.status.idle": "2025-10-11T10:41:53.551656Z",
     "shell.execute_reply": "2025-10-11T10:41:53.550581Z"
    },
    "papermill": {
     "duration": 12.786432,
     "end_time": "2025-10-11T10:41:53.553966",
     "exception": false,
     "start_time": "2025-10-11T10:41:40.767534",
     "status": "completed"
    },
    "tags": []
   },
   "outputs": [
    {
     "name": "stdout",
     "output_type": "stream",
     "text": [
      "Fitting 3 folds for each of 30 candidates, totalling 90 fits\n",
      "Best Params for Age Model: {'l2_regularization': 0.003533152609858703, 'learning_rate': 0.014612485008283152, 'max_depth': 5, 'max_iter': 158}\n",
      "Best CV Score (MAE): 10.399180196596179\n",
      "✅ All missing Age values have been filled using the optimized model.\n"
     ]
    }
   ],
   "source": [
    "import numpy as np\n",
    "from sklearn.ensemble import HistGradientBoostingRegressor\n",
    "from sklearn.model_selection import RandomizedSearchCV\n",
    "from scipy.stats import randint, uniform\n",
    "\n",
    "# ✅ 1. Features to use for age prediction (already encoded/scaled)\n",
    "age_features = ['Pclass', 'Sex', 'Fare', 'Embarked', 'FamilySize', 'IsAlone']\n",
    "\n",
    "# ✅ 2. Separate rows with known and missing Age\n",
    "train_known_age = train[train['Age'].notna()]\n",
    "train_missing_age = train[train['Age'].isna()]\n",
    "test_missing_age = test[test['Age'].isna()]\n",
    "\n",
    "# ✅ 3. Define model\n",
    "model = HistGradientBoostingRegressor(random_state=42)\n",
    "\n",
    "# ✅ 4. Hyperparameter search space\n",
    "param_dist = {\n",
    "    'max_depth': randint(3, 10),\n",
    "    'learning_rate': uniform(0.01, 0.2),\n",
    "    'max_iter': randint(100, 400),\n",
    "    'l2_regularization': uniform(0.0, 0.5)\n",
    "}\n",
    "\n",
    "# ✅ 5. RandomizedSearchCV\n",
    "search = RandomizedSearchCV(\n",
    "    model,\n",
    "    param_distributions=param_dist,\n",
    "    n_iter=30,\n",
    "    cv=3,\n",
    "    n_jobs=-1,\n",
    "    scoring='neg_mean_absolute_error',\n",
    "    random_state=42,\n",
    "    verbose=1\n",
    ")\n",
    "\n",
    "# ✅ 6. Train on known Age values\n",
    "search.fit(train_known_age[age_features], train_known_age['Age'])\n",
    "\n",
    "best_model = search.best_estimator_\n",
    "print(\"Best Params for Age Model:\", search.best_params_)\n",
    "print(\"Best CV Score (MAE):\", -search.best_score_)\n",
    "\n",
    "# ✅ 7. Predict missing Age for TRAIN\n",
    "if not train_missing_age.empty:\n",
    "    train.loc[train['Age'].isna(), 'Age'] = best_model.predict(train_missing_age[age_features])\n",
    "\n",
    "# ✅ 8. Predict missing Age for TEST\n",
    "if not test_missing_age.empty:\n",
    "    test.loc[test['Age'].isna(), 'Age'] = best_model.predict(test_missing_age[age_features])\n",
    "\n",
    "print(\"✅ All missing Age values have been filled using the optimized model.\")\n"
   ]
  },
  {
   "cell_type": "code",
   "execution_count": 18,
   "id": "a222c029",
   "metadata": {
    "execution": {
     "iopub.execute_input": "2025-10-11T10:41:53.569292Z",
     "iopub.status.busy": "2025-10-11T10:41:53.568543Z",
     "iopub.status.idle": "2025-10-11T10:41:53.978390Z",
     "shell.execute_reply": "2025-10-11T10:41:53.977342Z"
    },
    "papermill": {
     "duration": 0.41866,
     "end_time": "2025-10-11T10:41:53.980086",
     "exception": false,
     "start_time": "2025-10-11T10:41:53.561426",
     "status": "completed"
    },
    "tags": []
   },
   "outputs": [
    {
     "name": "stdout",
     "output_type": "stream",
     "text": [
      "Missing Ages in Train after imputation: 0\n",
      "Missing Ages in Test after imputation: 0\n"
     ]
    },
    {
     "data": {
      "image/png": "[encoded data removed]",
      "text/plain": [
       "<Figure size 1000x500 with 1 Axes>"
      ]
     },
     "metadata": {},
     "output_type": "display_data"
    }
   ],
   "source": [
    "# Check if any missing Age values remain\n",
    "print(\"Missing Ages in Train after imputation:\", train['Age'].isna().sum())\n",
    "print(\"Missing Ages in Test after imputation:\", test['Age'].isna().sum())\n",
    "\n",
    "# Optional: check distribution\n",
    "import matplotlib.pyplot as plt\n",
    "\n",
    "plt.figure(figsize=(10,5))\n",
    "plt.hist(train['Age'], bins=30, alpha=0.7, label='Train Age')\n",
    "plt.hist(test['Age'], bins=30, alpha=0.7, label='Test Age')\n",
    "plt.title('Age Distribution After Imputation')\n",
    "plt.xlabel('Age')\n",
    "plt.ylabel('Frequency')\n",
    "plt.legend()\n",
    "plt.show()\n"
   ]
  },
  {
   "cell_type": "code",
   "execution_count": 19,
   "id": "d6224d4d",
   "metadata": {
    "execution": {
     "iopub.execute_input": "2025-10-11T10:41:53.994252Z",
     "iopub.status.busy": "2025-10-11T10:41:53.993912Z",
     "iopub.status.idle": "2025-10-11T10:41:54.014775Z",
     "shell.execute_reply": "2025-10-11T10:41:54.013509Z"
    },
    "papermill": {
     "duration": 0.029709,
     "end_time": "2025-10-11T10:41:54.016359",
     "exception": false,
     "start_time": "2025-10-11T10:41:53.986650",
     "status": "completed"
    },
    "tags": []
   },
   "outputs": [
    {
     "name": "stdout",
     "output_type": "stream",
     "text": [
      "PassengerId      0\n",
      "Pclass           0\n",
      "Name             0\n",
      "Sex              0\n",
      "Age              0\n",
      "SibSp            0\n",
      "Parch            0\n",
      "Ticket           0\n",
      "Fare             0\n",
      "Cabin          327\n",
      "Embarked         0\n",
      "FamilySize       0\n",
      "IsAlone          0\n",
      "Title            0\n",
      "dtype: int64\n",
      "PassengerId      0\n",
      "Survived         0\n",
      "Pclass           0\n",
      "Name             0\n",
      "Sex              0\n",
      "Age              0\n",
      "SibSp            0\n",
      "Parch            0\n",
      "Ticket           0\n",
      "Fare             0\n",
      "Cabin          687\n",
      "Embarked         0\n",
      "FamilySize       0\n",
      "IsAlone          0\n",
      "Title            0\n",
      "dtype: int64\n"
     ]
    }
   ],
   "source": [
    "# Extract title\n",
    "for df in [train, test]:\n",
    "    df['Title'] = df['Name'].str.extract(' ([A-Za-z]+)\\.', expand=False)\n",
    "\n",
    "# Map rare titles\n",
    "title_mapping = {\n",
    "    'Mr':0, 'Miss':1, 'Mrs':2, 'Master':3,\n",
    "    'Don':4, 'Rev':4, 'Dr':4, 'Mme':2, 'Ms':1, 'Major':4,\n",
    "    'Lady':4, 'Sir':4, 'Mlle':1, 'Col':4, 'Capt':4, 'Countess':4, 'Jonkheer':4, 'Dona':4\n",
    "}\n",
    "\n",
    "for df in [train, test]:\n",
    "    df['Title'] = df['Title'].map(title_mapping)\n",
    "\n",
    "for df in [test,train]:\n",
    "    print(df.isna().sum())\n"
   ]
  },
  {
   "cell_type": "code",
   "execution_count": 20,
   "id": "236089ac",
   "metadata": {
    "execution": {
     "iopub.execute_input": "2025-10-11T10:41:54.030601Z",
     "iopub.status.busy": "2025-10-11T10:41:54.030223Z",
     "iopub.status.idle": "2025-10-11T10:41:54.038241Z",
     "shell.execute_reply": "2025-10-11T10:41:54.037276Z"
    },
    "papermill": {
     "duration": 0.017401,
     "end_time": "2025-10-11T10:41:54.040045",
     "exception": false,
     "start_time": "2025-10-11T10:41:54.022644",
     "status": "completed"
    },
    "tags": []
   },
   "outputs": [],
   "source": [
    "drop_cols = ['PassengerId', 'Name', 'Ticket', 'Cabin']\n",
    "\n",
    "X = train.drop(columns=drop_cols + ['Survived'])\n",
    "y = train['Survived']\n",
    "X_test = test.drop(columns=drop_cols)"
   ]
  },
  {
   "cell_type": "code",
   "execution_count": 21,
   "id": "c44f0102",
   "metadata": {
    "execution": {
     "iopub.execute_input": "2025-10-11T10:41:54.054601Z",
     "iopub.status.busy": "2025-10-11T10:41:54.054236Z",
     "iopub.status.idle": "2025-10-11T10:41:54.065400Z",
     "shell.execute_reply": "2025-10-11T10:41:54.064221Z"
    },
    "papermill": {
     "duration": 0.020753,
     "end_time": "2025-10-11T10:41:54.067634",
     "exception": false,
     "start_time": "2025-10-11T10:41:54.046881",
     "status": "completed"
    },
    "tags": []
   },
   "outputs": [
    {
     "name": "stdout",
     "output_type": "stream",
     "text": [
      "Survived      1.000000\n",
      "Sex           0.543351\n",
      "Title         0.407753\n",
      "Fare          0.257307\n",
      "Embarked      0.111203\n",
      "Parch         0.081629\n",
      "FamilySize    0.016639\n",
      "SibSp        -0.035322\n",
      "Age          -0.068752\n",
      "IsAlone      -0.203367\n",
      "Pclass       -0.338481\n",
      "Name: Survived, dtype: float64\n"
     ]
    }
   ],
   "source": [
    "corr_with_target = train.drop(columns=drop_cols).corr()['Survived'].sort_values(ascending=False)\n",
    "print(corr_with_target)"
   ]
  },
  {
   "cell_type": "code",
   "execution_count": 22,
   "id": "3aa4c90a",
   "metadata": {
    "execution": {
     "iopub.execute_input": "2025-10-11T10:41:54.081921Z",
     "iopub.status.busy": "2025-10-11T10:41:54.081529Z",
     "iopub.status.idle": "2025-10-11T10:41:54.399162Z",
     "shell.execute_reply": "2025-10-11T10:41:54.398231Z"
    },
    "papermill": {
     "duration": 0.326832,
     "end_time": "2025-10-11T10:41:54.401050",
     "exception": false,
     "start_time": "2025-10-11T10:41:54.074218",
     "status": "completed"
    },
    "tags": []
   },
   "outputs": [],
   "source": [
    "from sklearn.metrics import accuracy_score \n",
    "from xgboost import XGBClassifier \n",
    "\n",
    "X_train, X_val, y_train, y_val = train_test_split(X, y, test_size=0.15, random_state=42)"
   ]
  },
  {
   "cell_type": "code",
   "execution_count": 23,
   "id": "3e63575a",
   "metadata": {
    "execution": {
     "iopub.execute_input": "2025-10-11T10:41:54.415502Z",
     "iopub.status.busy": "2025-10-11T10:41:54.415149Z",
     "iopub.status.idle": "2025-10-11T10:41:55.289708Z",
     "shell.execute_reply": "2025-10-11T10:41:55.287307Z"
    },
    "papermill": {
     "duration": 0.883928,
     "end_time": "2025-10-11T10:41:55.291671",
     "exception": false,
     "start_time": "2025-10-11T10:41:54.407743",
     "status": "completed"
    },
    "tags": []
   },
   "outputs": [
    {
     "name": "stdout",
     "output_type": "stream",
     "text": [
      "Validation Accuracy=0.8433\n"
     ]
    }
   ],
   "source": [
    "# xgb_model = XGBClassifier(\n",
    "#     n_estimators=1000,\n",
    "#     max_depth=3,\n",
    "#     learning_rate=0.01,\n",
    "#     subsample=0.9,\n",
    "#     colsample_bytree=0.8,\n",
    "#     gamma=0.1,\n",
    "#     random_state=42,\n",
    "#     use_label_encoder=False,\n",
    "#     eval_metric='logloss'\n",
    "# )\n",
    "\n",
    "from xgboost import XGBClassifier\n",
    "from sklearn.metrics import accuracy_score\n",
    "    \n",
    "xgb_model = XGBClassifier(\n",
    "    n_estimators=2000,\n",
    "    learning_rate=0.01,\n",
    "    max_depth=4,\n",
    "    subsample=0.9,\n",
    "    colsample_bytree=0.8,\n",
    "    gamma=0.1,\n",
    "    random_state=42,\n",
    "    use_label_encoder=False,\n",
    "    eval_metric='logloss'\n",
    ")\n",
    "\n",
    "xgb_model.fit(X_train, y_train)\n",
    "y_pred = xgb_model.predict(X_val)\n",
    "acc = accuracy_score(y_val, y_pred)\n",
    "print(f\"Validation Accuracy={acc:.4f}\")"
   ]
  },
  {
   "cell_type": "code",
   "execution_count": 24,
   "id": "065d4da7",
   "metadata": {
    "execution": {
     "iopub.execute_input": "2025-10-11T10:41:55.308955Z",
     "iopub.status.busy": "2025-10-11T10:41:55.308634Z",
     "iopub.status.idle": "2025-10-11T10:41:55.333728Z",
     "shell.execute_reply": "2025-10-11T10:41:55.331898Z"
    },
    "papermill": {
     "duration": 0.034936,
     "end_time": "2025-10-11T10:41:55.335441",
     "exception": false,
     "start_time": "2025-10-11T10:41:55.300505",
     "status": "completed"
    },
    "tags": []
   },
   "outputs": [
    {
     "name": "stdout",
     "output_type": "stream",
     "text": [
      "Submission file created: titanic_submission.csv\n"
     ]
    }
   ],
   "source": [
    "test_predictions = xgb_model.predict(X_test)\n",
    "\n",
    "# =========================\n",
    "# Create submission DataFrame\n",
    "# =========================\n",
    "submission = pd.DataFrame({\n",
    "    'PassengerId': test['PassengerId'],\n",
    "    'Survived': test_predictions\n",
    "})\n",
    "\n",
    "submission.to_csv('titanic_submission.csv', index=False)\n",
    "print(\"Submission file created: titanic_submission.csv\")"
   ]
  }
 ],
 "metadata": {
  "kaggle": {
   "accelerator": "none",
   "dataSources": [
    {
     "databundleVersionId": 26502,
     "sourceId": 3136,
     "sourceType": "competition"
    }
   ],
   "dockerImageVersionId": 31089,
   "isGpuEnabled": false,
   "isInternetEnabled": true,
   "language": "python",
   "sourceType": "notebook"
  },
  "kernelspec": {
   "display_name": "Python 3",
   "language": "python",
   "name": "python3"
  },
  "language_info": {
   "codemirror_mode": {
    "name": "ipython",
    "version": 3
   },
   "file_extension": ".py",
   "mimetype": "text/x-python",
   "name": "python",
   "nbconvert_exporter": "python",
   "pygments_lexer": "ipython3",
   "version": "3.11.13"
  },
  "papermill": {
   "default_parameters": {},
   "duration": 29.124937,
   "end_time": "2025-10-11T10:41:57.963869",
   "environment_variables": {},
   "exception": null,
   "input_path": "__notebook__.ipynb",
   "output_path": "__notebook__.ipynb",
   "parameters": {},
   "start_time": "2025-10-11T10:41:28.838932",
   "version": "2.6.0"
  }
 },
 "nbformat": 4,
 "nbformat_minor": 5
}
