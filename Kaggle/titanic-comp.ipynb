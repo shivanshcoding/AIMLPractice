{
 "cells": [
  {
   "cell_type": "code",
   "execution_count": 1,
   "id": "983ee035",
   "metadata": {
    "_cell_guid": "b1076dfc-b9ad-4769-8c92-a6c4dae69d19",
    "_uuid": "8f2839f25d086af736a60e9eeb907d3b93b6e0e5",
    "execution": {
     "iopub.execute_input": "2025-10-14T09:25:28.931169Z",
     "iopub.status.busy": "2025-10-14T09:25:28.930881Z",
     "iopub.status.idle": "2025-10-14T09:25:30.859300Z",
     "shell.execute_reply": "2025-10-14T09:25:30.858348Z"
    },
    "papermill": {
     "duration": 1.935923,
     "end_time": "2025-10-14T09:25:30.860886",
     "exception": false,
     "start_time": "2025-10-14T09:25:28.924963",
     "status": "completed"
    },
    "tags": []
   },
   "outputs": [
    {
     "name": "stdout",
     "output_type": "stream",
     "text": [
      "/kaggle/input/titanic/train.csv\n",
      "/kaggle/input/titanic/test.csv\n",
      "/kaggle/input/titanic/gender_submission.csv\n"
     ]
    }
   ],
   "source": [
    "# This Python 3 environment comes with many helpful analytics libraries installed\n",
    "# It is defined by the kaggle/python Docker image: https://github.com/kaggle/docker-python\n",
    "# For example, here's several helpful packages to load\n",
    "\n",
    "import numpy as np # linear algebra\n",
    "import pandas as pd # data processing, CSV file I/O (e.g. pd.read_csv)\n",
    "\n",
    "# Input data files are available in the read-only \"../input/\" directory\n",
    "# For example, running this (by clicking run or pressing Shift+Enter) will list all files under the input directory\n",
    "\n",
    "import os\n",
    "for dirname, _, filenames in os.walk('/kaggle/input'):\n",
    "    for filename in filenames:\n",
    "        print(os.path.join(dirname, filename))\n",
    "\n",
    "# You can write up to 20GB to the current directory (/kaggle/working/) that gets preserved as output when you create a version using \"Save & Run All\" \n",
    "# You can also write temporary files to /kaggle/temp/, but they won't be saved outside of the current session"
   ]
  },
  {
   "cell_type": "code",
   "execution_count": 2,
   "id": "550ac3ee",
   "metadata": {
    "execution": {
     "iopub.execute_input": "2025-10-14T09:25:30.870553Z",
     "iopub.status.busy": "2025-10-14T09:25:30.869787Z",
     "iopub.status.idle": "2025-10-14T09:25:33.364380Z",
     "shell.execute_reply": "2025-10-14T09:25:33.363527Z"
    },
    "papermill": {
     "duration": 2.500963,
     "end_time": "2025-10-14T09:25:33.366101",
     "exception": false,
     "start_time": "2025-10-14T09:25:30.865138",
     "status": "completed"
    },
    "tags": []
   },
   "outputs": [],
   "source": [
    "import matplotlib.pyplot as plt\n",
    "import seaborn as sns\n",
    "\n",
    "from sklearn.preprocessing import LabelEncoder, StandardScaler\n",
    "from sklearn.impute import SimpleImputer\n",
    "from sklearn.model_selection import train_test_split"
   ]
  },
  {
   "cell_type": "code",
   "execution_count": 3,
   "id": "63b74c83",
   "metadata": {
    "execution": {
     "iopub.execute_input": "2025-10-14T09:25:33.376072Z",
     "iopub.status.busy": "2025-10-14T09:25:33.375621Z",
     "iopub.status.idle": "2025-10-14T09:25:33.421660Z",
     "shell.execute_reply": "2025-10-14T09:25:33.420763Z"
    },
    "papermill": {
     "duration": 0.052565,
     "end_time": "2025-10-14T09:25:33.423142",
     "exception": false,
     "start_time": "2025-10-14T09:25:33.370577",
     "status": "completed"
    },
    "tags": []
   },
   "outputs": [
    {
     "data": {
      "text/html": [
       "<div>\n",
       "<style scoped>\n",
       "    .dataframe tbody tr th:only-of-type {\n",
       "        vertical-align: middle;\n",
       "    }\n",
       "\n",
       "    .dataframe tbody tr th {\n",
       "        vertical-align: top;\n",
       "    }\n",
       "\n",
       "    .dataframe thead th {\n",
       "        text-align: right;\n",
       "    }\n",
       "</style>\n",
       "<table border=\"1\" class=\"dataframe\">\n",
       "  <thead>\n",
       "    <tr style=\"text-align: right;\">\n",
       "      <th></th>\n",
       "      <th>PassengerId</th>\n",
       "      <th>Survived</th>\n",
       "      <th>Pclass</th>\n",
       "      <th>Name</th>\n",
       "      <th>Sex</th>\n",
       "      <th>Age</th>\n",
       "      <th>SibSp</th>\n",
       "      <th>Parch</th>\n",
       "      <th>Ticket</th>\n",
       "      <th>Fare</th>\n",
       "      <th>Cabin</th>\n",
       "      <th>Embarked</th>\n",
       "    </tr>\n",
       "  </thead>\n",
       "  <tbody>\n",
       "    <tr>\n",
       "      <th>0</th>\n",
       "      <td>1</td>\n",
       "      <td>0</td>\n",
       "      <td>3</td>\n",
       "      <td>Braund, Mr. Owen Harris</td>\n",
       "      <td>male</td>\n",
       "      <td>22.0</td>\n",
       "      <td>1</td>\n",
       "      <td>0</td>\n",
       "      <td>A/5 21171</td>\n",
       "      <td>7.2500</td>\n",
       "      <td>NaN</td>\n",
       "      <td>S</td>\n",
       "    </tr>\n",
       "    <tr>\n",
       "      <th>1</th>\n",
       "      <td>2</td>\n",
       "      <td>1</td>\n",
       "      <td>1</td>\n",
       "      <td>Cumings, Mrs. John Bradley (Florence Briggs Th...</td>\n",
       "      <td>female</td>\n",
       "      <td>38.0</td>\n",
       "      <td>1</td>\n",
       "      <td>0</td>\n",
       "      <td>PC 17599</td>\n",
       "      <td>71.2833</td>\n",
       "      <td>C85</td>\n",
       "      <td>C</td>\n",
       "    </tr>\n",
       "    <tr>\n",
       "      <th>2</th>\n",
       "      <td>3</td>\n",
       "      <td>1</td>\n",
       "      <td>3</td>\n",
       "      <td>Heikkinen, Miss. Laina</td>\n",
       "      <td>female</td>\n",
       "      <td>26.0</td>\n",
       "      <td>0</td>\n",
       "      <td>0</td>\n",
       "      <td>STON/O2. 3101282</td>\n",
       "      <td>7.9250</td>\n",
       "      <td>NaN</td>\n",
       "      <td>S</td>\n",
       "    </tr>\n",
       "    <tr>\n",
       "      <th>3</th>\n",
       "      <td>4</td>\n",
       "      <td>1</td>\n",
       "      <td>1</td>\n",
       "      <td>Futrelle, Mrs. Jacques Heath (Lily May Peel)</td>\n",
       "      <td>female</td>\n",
       "      <td>35.0</td>\n",
       "      <td>1</td>\n",
       "      <td>0</td>\n",
       "      <td>113803</td>\n",
       "      <td>53.1000</td>\n",
       "      <td>C123</td>\n",
       "      <td>S</td>\n",
       "    </tr>\n",
       "    <tr>\n",
       "      <th>4</th>\n",
       "      <td>5</td>\n",
       "      <td>0</td>\n",
       "      <td>3</td>\n",
       "      <td>Allen, Mr. William Henry</td>\n",
       "      <td>male</td>\n",
       "      <td>35.0</td>\n",
       "      <td>0</td>\n",
       "      <td>0</td>\n",
       "      <td>373450</td>\n",
       "      <td>8.0500</td>\n",
       "      <td>NaN</td>\n",
       "      <td>S</td>\n",
       "    </tr>\n",
       "  </tbody>\n",
       "</table>\n",
       "</div>"
      ],
      "text/plain": [
       "   PassengerId  Survived  Pclass  \\\n",
       "0            1         0       3   \n",
       "1            2         1       1   \n",
       "2            3         1       3   \n",
       "3            4         1       1   \n",
       "4            5         0       3   \n",
       "\n",
       "                                                Name     Sex   Age  SibSp  \\\n",
       "0                            Braund, Mr. Owen Harris    male  22.0      1   \n",
       "1  Cumings, Mrs. John Bradley (Florence Briggs Th...  female  38.0      1   \n",
       "2                             Heikkinen, Miss. Laina  female  26.0      0   \n",
       "3       Futrelle, Mrs. Jacques Heath (Lily May Peel)  female  35.0      1   \n",
       "4                           Allen, Mr. William Henry    male  35.0      0   \n",
       "\n",
       "   Parch            Ticket     Fare Cabin Embarked  \n",
       "0      0         A/5 21171   7.2500   NaN        S  \n",
       "1      0          PC 17599  71.2833   C85        C  \n",
       "2      0  STON/O2. 3101282   7.9250   NaN        S  \n",
       "3      0            113803  53.1000  C123        S  \n",
       "4      0            373450   8.0500   NaN        S  "
      ]
     },
     "execution_count": 3,
     "metadata": {},
     "output_type": "execute_result"
    }
   ],
   "source": [
    "file_path_train = \"/kaggle/input/titanic/train.csv\"\n",
    "train = pd.read_csv(file_path_train)\n",
    "train.head()"
   ]
  },
  {
   "cell_type": "code",
   "execution_count": 4,
   "id": "6b1748a1",
   "metadata": {
    "execution": {
     "iopub.execute_input": "2025-10-14T09:25:33.433195Z",
     "iopub.status.busy": "2025-10-14T09:25:33.432856Z",
     "iopub.status.idle": "2025-10-14T09:25:33.452930Z",
     "shell.execute_reply": "2025-10-14T09:25:33.452048Z"
    },
    "papermill": {
     "duration": 0.026787,
     "end_time": "2025-10-14T09:25:33.454349",
     "exception": false,
     "start_time": "2025-10-14T09:25:33.427562",
     "status": "completed"
    },
    "tags": []
   },
   "outputs": [
    {
     "data": {
      "text/html": [
       "<div>\n",
       "<style scoped>\n",
       "    .dataframe tbody tr th:only-of-type {\n",
       "        vertical-align: middle;\n",
       "    }\n",
       "\n",
       "    .dataframe tbody tr th {\n",
       "        vertical-align: top;\n",
       "    }\n",
       "\n",
       "    .dataframe thead th {\n",
       "        text-align: right;\n",
       "    }\n",
       "</style>\n",
       "<table border=\"1\" class=\"dataframe\">\n",
       "  <thead>\n",
       "    <tr style=\"text-align: right;\">\n",
       "      <th></th>\n",
       "      <th>PassengerId</th>\n",
       "      <th>Pclass</th>\n",
       "      <th>Name</th>\n",
       "      <th>Sex</th>\n",
       "      <th>Age</th>\n",
       "      <th>SibSp</th>\n",
       "      <th>Parch</th>\n",
       "      <th>Ticket</th>\n",
       "      <th>Fare</th>\n",
       "      <th>Cabin</th>\n",
       "      <th>Embarked</th>\n",
       "    </tr>\n",
       "  </thead>\n",
       "  <tbody>\n",
       "    <tr>\n",
       "      <th>0</th>\n",
       "      <td>892</td>\n",
       "      <td>3</td>\n",
       "      <td>Kelly, Mr. James</td>\n",
       "      <td>male</td>\n",
       "      <td>34.5</td>\n",
       "      <td>0</td>\n",
       "      <td>0</td>\n",
       "      <td>330911</td>\n",
       "      <td>7.8292</td>\n",
       "      <td>NaN</td>\n",
       "      <td>Q</td>\n",
       "    </tr>\n",
       "    <tr>\n",
       "      <th>1</th>\n",
       "      <td>893</td>\n",
       "      <td>3</td>\n",
       "      <td>Wilkes, Mrs. James (Ellen Needs)</td>\n",
       "      <td>female</td>\n",
       "      <td>47.0</td>\n",
       "      <td>1</td>\n",
       "      <td>0</td>\n",
       "      <td>363272</td>\n",
       "      <td>7.0000</td>\n",
       "      <td>NaN</td>\n",
       "      <td>S</td>\n",
       "    </tr>\n",
       "    <tr>\n",
       "      <th>2</th>\n",
       "      <td>894</td>\n",
       "      <td>2</td>\n",
       "      <td>Myles, Mr. Thomas Francis</td>\n",
       "      <td>male</td>\n",
       "      <td>62.0</td>\n",
       "      <td>0</td>\n",
       "      <td>0</td>\n",
       "      <td>240276</td>\n",
       "      <td>9.6875</td>\n",
       "      <td>NaN</td>\n",
       "      <td>Q</td>\n",
       "    </tr>\n",
       "    <tr>\n",
       "      <th>3</th>\n",
       "      <td>895</td>\n",
       "      <td>3</td>\n",
       "      <td>Wirz, Mr. Albert</td>\n",
       "      <td>male</td>\n",
       "      <td>27.0</td>\n",
       "      <td>0</td>\n",
       "      <td>0</td>\n",
       "      <td>315154</td>\n",
       "      <td>8.6625</td>\n",
       "      <td>NaN</td>\n",
       "      <td>S</td>\n",
       "    </tr>\n",
       "    <tr>\n",
       "      <th>4</th>\n",
       "      <td>896</td>\n",
       "      <td>3</td>\n",
       "      <td>Hirvonen, Mrs. Alexander (Helga E Lindqvist)</td>\n",
       "      <td>female</td>\n",
       "      <td>22.0</td>\n",
       "      <td>1</td>\n",
       "      <td>1</td>\n",
       "      <td>3101298</td>\n",
       "      <td>12.2875</td>\n",
       "      <td>NaN</td>\n",
       "      <td>S</td>\n",
       "    </tr>\n",
       "  </tbody>\n",
       "</table>\n",
       "</div>"
      ],
      "text/plain": [
       "   PassengerId  Pclass                                          Name     Sex  \\\n",
       "0          892       3                              Kelly, Mr. James    male   \n",
       "1          893       3              Wilkes, Mrs. James (Ellen Needs)  female   \n",
       "2          894       2                     Myles, Mr. Thomas Francis    male   \n",
       "3          895       3                              Wirz, Mr. Albert    male   \n",
       "4          896       3  Hirvonen, Mrs. Alexander (Helga E Lindqvist)  female   \n",
       "\n",
       "    Age  SibSp  Parch   Ticket     Fare Cabin Embarked  \n",
       "0  34.5      0      0   330911   7.8292   NaN        Q  \n",
       "1  47.0      1      0   363272   7.0000   NaN        S  \n",
       "2  62.0      0      0   240276   9.6875   NaN        Q  \n",
       "3  27.0      0      0   315154   8.6625   NaN        S  \n",
       "4  22.0      1      1  3101298  12.2875   NaN        S  "
      ]
     },
     "execution_count": 4,
     "metadata": {},
     "output_type": "execute_result"
    }
   ],
   "source": [
    "file_path_test = \"/kaggle/input/titanic/test.csv\"\n",
    "test = pd.read_csv(file_path_test)\n",
    "test.head()"
   ]
  },
  {
   "cell_type": "code",
   "execution_count": 5,
   "id": "b569c00d",
   "metadata": {
    "execution": {
     "iopub.execute_input": "2025-10-14T09:25:33.465363Z",
     "iopub.status.busy": "2025-10-14T09:25:33.464951Z",
     "iopub.status.idle": "2025-10-14T09:25:33.476024Z",
     "shell.execute_reply": "2025-10-14T09:25:33.474773Z"
    },
    "papermill": {
     "duration": 0.018465,
     "end_time": "2025-10-14T09:25:33.477725",
     "exception": false,
     "start_time": "2025-10-14T09:25:33.459260",
     "status": "completed"
    },
    "tags": []
   },
   "outputs": [],
   "source": [
    "# 3.3 Family size\n",
    "for df in [train, test]:\n",
    "    df['FamilySize'] = df['SibSp'] + df['Parch'] + 1\n",
    "    df['IsAlone'] = np.where(df['FamilySize'] == 1, 1, 0)"
   ]
  },
  {
   "cell_type": "code",
   "execution_count": 6,
   "id": "fc20d822",
   "metadata": {
    "execution": {
     "iopub.execute_input": "2025-10-14T09:25:33.487551Z",
     "iopub.status.busy": "2025-10-14T09:25:33.487236Z",
     "iopub.status.idle": "2025-10-14T09:25:33.502023Z",
     "shell.execute_reply": "2025-10-14T09:25:33.501170Z"
    },
    "papermill": {
     "duration": 0.021272,
     "end_time": "2025-10-14T09:25:33.503475",
     "exception": false,
     "start_time": "2025-10-14T09:25:33.482203",
     "status": "completed"
    },
    "tags": []
   },
   "outputs": [
    {
     "data": {
      "text/plain": [
       "PassengerId      0\n",
       "Survived         0\n",
       "Pclass           0\n",
       "Name             0\n",
       "Sex              0\n",
       "Age            177\n",
       "SibSp            0\n",
       "Parch            0\n",
       "Ticket           0\n",
       "Fare             0\n",
       "Cabin          687\n",
       "Embarked         0\n",
       "FamilySize       0\n",
       "IsAlone          0\n",
       "dtype: int64"
      ]
     },
     "execution_count": 6,
     "metadata": {},
     "output_type": "execute_result"
    }
   ],
   "source": [
    "# print(train[train['Embarked'].isna()])\n",
    "train.loc[train['PassengerId'].isin([62, 830]), 'Embarked'] = 'C'\n",
    "train.isna().sum()"
   ]
  },
  {
   "cell_type": "code",
   "execution_count": 7,
   "id": "e571d78f",
   "metadata": {
    "execution": {
     "iopub.execute_input": "2025-10-14T09:25:33.513635Z",
     "iopub.status.busy": "2025-10-14T09:25:33.513023Z",
     "iopub.status.idle": "2025-10-14T09:25:33.523847Z",
     "shell.execute_reply": "2025-10-14T09:25:33.522909Z"
    },
    "papermill": {
     "duration": 0.017307,
     "end_time": "2025-10-14T09:25:33.525266",
     "exception": false,
     "start_time": "2025-10-14T09:25:33.507959",
     "status": "completed"
    },
    "tags": []
   },
   "outputs": [],
   "source": [
    "mapping = {'S':0, 'C':1, 'Q':2}\n",
    "for df in [train, test]:\n",
    "    df['Sex'] = df['Sex'].map({'male':0, 'female':1})\n",
    "    df['Embarked'] = df['Embarked'].map(mapping)"
   ]
  },
  {
   "cell_type": "code",
   "execution_count": 8,
   "id": "28b54723",
   "metadata": {
    "execution": {
     "iopub.execute_input": "2025-10-14T09:25:33.536006Z",
     "iopub.status.busy": "2025-10-14T09:25:33.535624Z",
     "iopub.status.idle": "2025-10-14T09:25:33.547249Z",
     "shell.execute_reply": "2025-10-14T09:25:33.546231Z"
    },
    "papermill": {
     "duration": 0.019143,
     "end_time": "2025-10-14T09:25:33.549107",
     "exception": false,
     "start_time": "2025-10-14T09:25:33.529964",
     "status": "completed"
    },
    "tags": []
   },
   "outputs": [],
   "source": [
    "missing_fare_index = test[test['Fare'].isna()].index\n",
    "# print(test.loc[missing_fare_index])\n",
    "for idx in missing_fare_index:\n",
    "    pclass = test.loc[idx, 'Pclass']\n",
    "    median_fare = test[test['Pclass'] == pclass]['Fare'].median()\n",
    "    test.loc[idx, 'Fare'] = median_fare"
   ]
  },
  {
   "cell_type": "code",
   "execution_count": 9,
   "id": "a5da335b",
   "metadata": {
    "execution": {
     "iopub.execute_input": "2025-10-14T09:25:33.560042Z",
     "iopub.status.busy": "2025-10-14T09:25:33.559695Z",
     "iopub.status.idle": "2025-10-14T09:25:33.566923Z",
     "shell.execute_reply": "2025-10-14T09:25:33.566100Z"
    },
    "papermill": {
     "duration": 0.013905,
     "end_time": "2025-10-14T09:25:33.568370",
     "exception": false,
     "start_time": "2025-10-14T09:25:33.554465",
     "status": "completed"
    },
    "tags": []
   },
   "outputs": [
    {
     "data": {
      "text/plain": [
       "PassengerId      0\n",
       "Pclass           0\n",
       "Name             0\n",
       "Sex              0\n",
       "Age             86\n",
       "SibSp            0\n",
       "Parch            0\n",
       "Ticket           0\n",
       "Fare             0\n",
       "Cabin          327\n",
       "Embarked         0\n",
       "FamilySize       0\n",
       "IsAlone          0\n",
       "dtype: int64"
      ]
     },
     "execution_count": 9,
     "metadata": {},
     "output_type": "execute_result"
    }
   ],
   "source": [
    "test.isna().sum()"
   ]
  },
  {
   "cell_type": "code",
   "execution_count": 10,
   "id": "59789f88",
   "metadata": {
    "execution": {
     "iopub.execute_input": "2025-10-14T09:25:33.578975Z",
     "iopub.status.busy": "2025-10-14T09:25:33.578672Z",
     "iopub.status.idle": "2025-10-14T09:25:33.586388Z",
     "shell.execute_reply": "2025-10-14T09:25:33.585584Z"
    },
    "papermill": {
     "duration": 0.015103,
     "end_time": "2025-10-14T09:25:33.587930",
     "exception": false,
     "start_time": "2025-10-14T09:25:33.572827",
     "status": "completed"
    },
    "tags": []
   },
   "outputs": [
    {
     "data": {
      "text/plain": [
       "PassengerId      0\n",
       "Survived         0\n",
       "Pclass           0\n",
       "Name             0\n",
       "Sex              0\n",
       "Age            177\n",
       "SibSp            0\n",
       "Parch            0\n",
       "Ticket           0\n",
       "Fare             0\n",
       "Cabin          687\n",
       "Embarked         0\n",
       "FamilySize       0\n",
       "IsAlone          0\n",
       "dtype: int64"
      ]
     },
     "execution_count": 10,
     "metadata": {},
     "output_type": "execute_result"
    }
   ],
   "source": [
    "train.isna().sum()"
   ]
  },
  {
   "cell_type": "code",
   "execution_count": 11,
   "id": "54d93a6b",
   "metadata": {
    "execution": {
     "iopub.execute_input": "2025-10-14T09:25:33.599303Z",
     "iopub.status.busy": "2025-10-14T09:25:33.598947Z",
     "iopub.status.idle": "2025-10-14T09:25:33.603211Z",
     "shell.execute_reply": "2025-10-14T09:25:33.602415Z"
    },
    "papermill": {
     "duration": 0.011567,
     "end_time": "2025-10-14T09:25:33.604719",
     "exception": false,
     "start_time": "2025-10-14T09:25:33.593152",
     "status": "completed"
    },
    "tags": []
   },
   "outputs": [],
   "source": [
    "# age_features = ['Pclass', 'Sex', 'SibSp', 'Parch', 'Fare', 'Embarked', 'FamilySize', 'IsAlone']\n",
    "\n",
    "# train_known_age = train[train['Age'].notna()]\n",
    "# train_missing_age = train[train['Age'].isna()]\n",
    "\n",
    "# from sklearn.ensemble import RandomForestRegressor\n",
    "\n",
    "# age_model = RandomForestRegressor(n_estimators=100, random_state=42)\n",
    "# age_model.fit(train_known_age[age_features], train_known_age['Age'])\n",
    "\n",
    "# train.loc[train['Age'].isna(), 'Age'] = age_model.predict(train_missing_age[age_features])\n",
    "# test_missing_age = test[test['Age'].isna()]\n",
    "# test.loc[test['Age'].isna(), 'Age'] = age_model.predict(test_missing_age[age_features])\n",
    "\n"
   ]
  },
  {
   "cell_type": "code",
   "execution_count": 12,
   "id": "d3144348",
   "metadata": {
    "execution": {
     "iopub.execute_input": "2025-10-14T09:25:33.615865Z",
     "iopub.status.busy": "2025-10-14T09:25:33.615544Z",
     "iopub.status.idle": "2025-10-14T09:25:54.552647Z",
     "shell.execute_reply": "2025-10-14T09:25:54.551954Z"
    },
    "papermill": {
     "duration": 20.944647,
     "end_time": "2025-10-14T09:25:54.554074",
     "exception": false,
     "start_time": "2025-10-14T09:25:33.609427",
     "status": "completed"
    },
    "tags": []
   },
   "outputs": [
    {
     "name": "stdout",
     "output_type": "stream",
     "text": [
      "Fitting 3 folds for each of 30 candidates, totalling 90 fits\n",
      "Fitting 3 folds for each of 30 candidates, totalling 90 fits\n",
      "Best Params for Age Model: {'regressor__l2_regularization': 0.003533152609858703, 'regressor__learning_rate': 0.014612485008283152, 'regressor__max_depth': 5, 'regressor__max_iter': 158}\n"
     ]
    }
   ],
   "source": [
    "import pandas as pd\n",
    "import numpy as np\n",
    "from sklearn.ensemble import HistGradientBoostingRegressor\n",
    "from sklearn.model_selection import RandomizedSearchCV\n",
    "from sklearn.preprocessing import OneHotEncoder, StandardScaler, PolynomialFeatures\n",
    "from sklearn.compose import ColumnTransformer\n",
    "from sklearn.pipeline import Pipeline\n",
    "from sklearn.impute import SimpleImputer\n",
    "from scipy.stats import randint, uniform\n",
    "\n",
    "# ✅ 1. Features to use for age prediction\n",
    "age_features = ['Pclass', 'Sex', 'Fare', 'Embarked', 'FamilySize', 'IsAlone']\n",
    "\n",
    "# ✅ 2. Separate rows with known and missing Age\n",
    "train_known_age = train[train['Age'].notna()]\n",
    "test_known_age = test[test['Age'].notna()]\n",
    "train_missing_age = train[train['Age'].isna()]\n",
    "test_missing_age = test[test['Age'].isna()]\n",
    "\n",
    "# ✅ 3. Identify categorical & numerical columns\n",
    "cat_cols = ['Sex', 'Embarked', 'IsAlone']\n",
    "num_cols = ['Pclass', 'Fare', 'FamilySize']\n",
    "\n",
    "# ✅ 4. Preprocessing pipelines\n",
    "num_transformer = Pipeline([\n",
    "    ('imputer', SimpleImputer(strategy='median')),\n",
    "    ('scaler', StandardScaler()),\n",
    "    ('poly', PolynomialFeatures(degree=2, include_bias=False))  # adds interaction & squared terms\n",
    "])\n",
    "\n",
    "cat_transformer = Pipeline([\n",
    "    ('imputer', SimpleImputer(strategy='most_frequent')),\n",
    "    ('onehot', OneHotEncoder(handle_unknown='ignore'))\n",
    "])\n",
    "\n",
    "preprocessor = ColumnTransformer([\n",
    "    ('num', num_transformer, num_cols),\n",
    "    ('cat', cat_transformer, cat_cols)\n",
    "])\n",
    "\n",
    "# ✅ 5. Regressor model — HistGradientBoosting often performs better than RF\n",
    "model = HistGradientBoostingRegressor(random_state=42)\n",
    "\n",
    "# ✅ 6. Build pipeline\n",
    "pipe = Pipeline([\n",
    "    ('preprocessor', preprocessor),\n",
    "    ('regressor', model)\n",
    "])\n",
    "\n",
    "# ✅ 7. Hyperparameter tuning with RandomizedSearchCV\n",
    "param_dist = {\n",
    "    'regressor__max_depth': randint(3, 10),\n",
    "    'regressor__learning_rate': uniform(0.01, 0.2),\n",
    "    'regressor__max_iter': randint(100, 400),\n",
    "    'regressor__l2_regularization': uniform(0.0, 0.5)\n",
    "}\n",
    "\n",
    "search = RandomizedSearchCV(\n",
    "    pipe,\n",
    "    param_distributions=param_dist,\n",
    "    n_iter=30,\n",
    "    cv=3,\n",
    "    n_jobs=-1,\n",
    "    scoring='neg_mean_absolute_error',\n",
    "    random_state=42,\n",
    "    verbose=1\n",
    ")\n",
    "\n",
    "# ✅ 8. Train on rows with known Age\n",
    "search.fit(train_known_age[age_features], train_known_age['Age'])\n",
    "search.fit(test_known_age[age_features], test_known_age['Age'])\n",
    "best_model = search.best_estimator_\n",
    "print(\"Best Params for Age Model:\", search.best_params_)\n",
    "\n",
    "# ✅ 9. Predict missing Age for TRAIN\n",
    "if not train_missing_age.empty:\n",
    "    train.loc[train['Age'].isna(), 'Age'] = best_model.predict(train_missing_age[age_features])\n",
    "\n",
    "# ✅ 10. Predict missing Age for TEST\n",
    "test_missing_age = test[test['Age'].isna()]\n",
    "if not test_missing_age.empty:\n",
    "    test.loc[test['Age'].isna(), 'Age'] = best_model.predict(test_missing_age[age_features])\n",
    "\n"
   ]
  },
  {
   "cell_type": "code",
   "execution_count": 13,
   "id": "40c2dd29",
   "metadata": {
    "execution": {
     "iopub.execute_input": "2025-10-14T09:25:54.565172Z",
     "iopub.status.busy": "2025-10-14T09:25:54.564875Z",
     "iopub.status.idle": "2025-10-14T09:25:54.569997Z",
     "shell.execute_reply": "2025-10-14T09:25:54.569138Z"
    },
    "papermill": {
     "duration": 0.012389,
     "end_time": "2025-10-14T09:25:54.571426",
     "exception": false,
     "start_time": "2025-10-14T09:25:54.559037",
     "status": "completed"
    },
    "tags": []
   },
   "outputs": [],
   "source": [
    "# import numpy as np\n",
    "# from sklearn.ensemble import HistGradientBoostingRegressor\n",
    "# from sklearn.model_selection import RandomizedSearchCV\n",
    "# from scipy.stats import randint, uniform\n",
    "\n",
    "# # ✅ 1. Features to use for age prediction (already encoded/scaled)\n",
    "# age_features = ['Pclass', 'Sex', 'Fare', 'Embarked', 'FamilySize', 'IsAlone']\n",
    "\n",
    "# # ✅ 2. Separate rows with known and missing Age\n",
    "# train_known_age = train[train['Age'].notna()]\n",
    "# train_missing_age = train[train['Age'].isna()]\n",
    "# test_missing_age = test[test['Age'].isna()]\n",
    "\n",
    "# # ✅ 3. Define model\n",
    "# model = HistGradientBoostingRegressor(random_state=42)\n",
    "\n",
    "# # ✅ 4. Hyperparameter search space\n",
    "# param_dist = {\n",
    "#     'max_depth': randint(3, 10),\n",
    "#     'learning_rate': uniform(0.01, 0.2),\n",
    "#     'max_iter': randint(100, 400),\n",
    "#     'l2_regularization': uniform(0.0, 0.5)\n",
    "# }\n",
    "\n",
    "# # ✅ 5. RandomizedSearchCV\n",
    "# search = RandomizedSearchCV(\n",
    "#     model,\n",
    "#     param_distributions=param_dist,\n",
    "#     n_iter=30,\n",
    "#     cv=3,\n",
    "#     n_jobs=-1,\n",
    "#     scoring='neg_mean_absolute_error',\n",
    "#     random_state=42,\n",
    "#     verbose=1\n",
    "# )\n",
    "\n",
    "# # ✅ 6. Train on known Age values\n",
    "# search.fit(train_known_age[age_features], train_known_age['Age'])\n",
    "\n",
    "# best_model = search.best_estimator_\n",
    "# print(\"Best Params for Age Model:\", search.best_params_)\n",
    "# print(\"Best CV Score (MAE):\", -search.best_score_)\n",
    "\n",
    "# # ✅ 7. Predict missing Age for TRAIN\n",
    "# if not train_missing_age.empty:\n",
    "#     train.loc[train['Age'].isna(), 'Age'] = best_model.predict(train_missing_age[age_features])\n",
    "\n",
    "# # ✅ 8. Predict missing Age for TEST\n",
    "# if not test_missing_age.empty:\n",
    "#     test.loc[test['Age'].isna(), 'Age'] = best_model.predict(test_missing_age[age_features])\n",
    "\n",
    "# print(\"✅ All missing Age values have been filled using the optimized model.\")\n"
   ]
  },
  {
   "cell_type": "code",
   "execution_count": 14,
   "id": "00fe43b8",
   "metadata": {
    "execution": {
     "iopub.execute_input": "2025-10-14T09:25:54.582967Z",
     "iopub.status.busy": "2025-10-14T09:25:54.582652Z",
     "iopub.status.idle": "2025-10-14T09:25:54.970229Z",
     "shell.execute_reply": "2025-10-14T09:25:54.969254Z"
    },
    "papermill": {
     "duration": 0.39545,
     "end_time": "2025-10-14T09:25:54.971677",
     "exception": false,
     "start_time": "2025-10-14T09:25:54.576227",
     "status": "completed"
    },
    "tags": []
   },
   "outputs": [
    {
     "name": "stdout",
     "output_type": "stream",
     "text": [
      "Missing Ages in Train after imputation: 0\n",
      "Missing Ages in Test after imputation: 0\n"
     ]
    },
    {
     "data": {
      "image/png": "[encoded data removed]",
      "text/plain": [
       "<Figure size 1000x500 with 1 Axes>"
      ]
     },
     "metadata": {},
     "output_type": "display_data"
    }
   ],
   "source": [
    "# Check if any missing Age values remain\n",
    "print(\"Missing Ages in Train after imputation:\", train['Age'].isna().sum())\n",
    "print(\"Missing Ages in Test after imputation:\", test['Age'].isna().sum())\n",
    "\n",
    "# Optional: check distribution\n",
    "import matplotlib.pyplot as plt\n",
    "\n",
    "plt.figure(figsize=(10,5))\n",
    "plt.hist(train['Age'], bins=30, alpha=0.7, label='Train Age')\n",
    "plt.hist(test['Age'], bins=30, alpha=0.7, label='Test Age')\n",
    "plt.title('Age Distribution After Imputation')\n",
    "plt.xlabel('Age')\n",
    "plt.ylabel('Frequency')\n",
    "plt.legend()\n",
    "plt.show()\n"
   ]
  },
  {
   "cell_type": "code",
   "execution_count": 15,
   "id": "dee05b77",
   "metadata": {
    "execution": {
     "iopub.execute_input": "2025-10-14T09:25:54.983715Z",
     "iopub.status.busy": "2025-10-14T09:25:54.983247Z",
     "iopub.status.idle": "2025-10-14T09:25:54.998096Z",
     "shell.execute_reply": "2025-10-14T09:25:54.996985Z"
    },
    "papermill": {
     "duration": 0.022619,
     "end_time": "2025-10-14T09:25:54.999621",
     "exception": false,
     "start_time": "2025-10-14T09:25:54.977002",
     "status": "completed"
    },
    "tags": []
   },
   "outputs": [
    {
     "name": "stdout",
     "output_type": "stream",
     "text": [
      "PassengerId      0\n",
      "Pclass           0\n",
      "Name             0\n",
      "Sex              0\n",
      "Age              0\n",
      "SibSp            0\n",
      "Parch            0\n",
      "Ticket           0\n",
      "Fare             0\n",
      "Cabin          327\n",
      "Embarked         0\n",
      "FamilySize       0\n",
      "IsAlone          0\n",
      "Title            0\n",
      "dtype: int64\n",
      "PassengerId      0\n",
      "Survived         0\n",
      "Pclass           0\n",
      "Name             0\n",
      "Sex              0\n",
      "Age              0\n",
      "SibSp            0\n",
      "Parch            0\n",
      "Ticket           0\n",
      "Fare             0\n",
      "Cabin          687\n",
      "Embarked         0\n",
      "FamilySize       0\n",
      "IsAlone          0\n",
      "Title            0\n",
      "dtype: int64\n"
     ]
    }
   ],
   "source": [
    "# Extract title\n",
    "for df in [train, test]:\n",
    "    df['Title'] = df['Name'].str.extract(' ([A-Za-z]+)\\.', expand=False)\n",
    "\n",
    "# Map rare titles\n",
    "title_mapping = {\n",
    "    'Mr':0, 'Miss':1, 'Mrs':2, 'Master':3,\n",
    "    'Don':4, 'Rev':4, 'Dr':4, 'Mme':2, 'Ms':1, 'Major':4,\n",
    "    'Lady':4, 'Sir':4, 'Mlle':1, 'Col':4, 'Capt':4, 'Countess':4, 'Jonkheer':4, 'Dona':4\n",
    "}\n",
    "\n",
    "for df in [train, test]:\n",
    "    df['Title'] = df['Title'].map(title_mapping)\n",
    "\n",
    "for df in [test,train]:\n",
    "    print(df.isna().sum())\n"
   ]
  },
  {
   "cell_type": "code",
   "execution_count": 16,
   "id": "0a5de9f6",
   "metadata": {
    "execution": {
     "iopub.execute_input": "2025-10-14T09:25:55.012231Z",
     "iopub.status.busy": "2025-10-14T09:25:55.011854Z",
     "iopub.status.idle": "2025-10-14T09:25:55.019070Z",
     "shell.execute_reply": "2025-10-14T09:25:55.017945Z"
    },
    "papermill": {
     "duration": 0.015292,
     "end_time": "2025-10-14T09:25:55.020892",
     "exception": false,
     "start_time": "2025-10-14T09:25:55.005600",
     "status": "completed"
    },
    "tags": []
   },
   "outputs": [],
   "source": [
    "drop_cols = ['PassengerId', 'Name', 'Ticket', 'Cabin']\n",
    "\n",
    "X = train.drop(columns=drop_cols + ['Survived'])\n",
    "y = train['Survived']\n",
    "X_test = test.drop(columns=drop_cols)"
   ]
  },
  {
   "cell_type": "code",
   "execution_count": 17,
   "id": "dd5f7330",
   "metadata": {
    "execution": {
     "iopub.execute_input": "2025-10-14T09:25:55.033201Z",
     "iopub.status.busy": "2025-10-14T09:25:55.032394Z",
     "iopub.status.idle": "2025-10-14T09:25:55.040831Z",
     "shell.execute_reply": "2025-10-14T09:25:55.039964Z"
    },
    "papermill": {
     "duration": 0.01598,
     "end_time": "2025-10-14T09:25:55.042264",
     "exception": false,
     "start_time": "2025-10-14T09:25:55.026284",
     "status": "completed"
    },
    "tags": []
   },
   "outputs": [
    {
     "name": "stdout",
     "output_type": "stream",
     "text": [
      "Survived      1.000000\n",
      "Sex           0.543351\n",
      "Title         0.407753\n",
      "Fare          0.257307\n",
      "Embarked      0.111203\n",
      "Parch         0.081629\n",
      "FamilySize    0.016639\n",
      "SibSp        -0.035322\n",
      "Age          -0.060740\n",
      "IsAlone      -0.203367\n",
      "Pclass       -0.338481\n",
      "Name: Survived, dtype: float64\n"
     ]
    }
   ],
   "source": [
    "corr_with_target = train.drop(columns=drop_cols).corr()['Survived'].sort_values(ascending=False)\n",
    "print(corr_with_target)"
   ]
  },
  {
   "cell_type": "code",
   "execution_count": 18,
   "id": "def11582",
   "metadata": {
    "execution": {
     "iopub.execute_input": "2025-10-14T09:25:55.054966Z",
     "iopub.status.busy": "2025-10-14T09:25:55.054353Z",
     "iopub.status.idle": "2025-10-14T09:25:55.347311Z",
     "shell.execute_reply": "2025-10-14T09:25:55.346327Z"
    },
    "papermill": {
     "duration": 0.300971,
     "end_time": "2025-10-14T09:25:55.349086",
     "exception": false,
     "start_time": "2025-10-14T09:25:55.048115",
     "status": "completed"
    },
    "tags": []
   },
   "outputs": [],
   "source": [
    "from sklearn.metrics import accuracy_score \n",
    "from xgboost import XGBClassifier \n",
    "\n",
    "X_train, X_val, y_train, y_val = train_test_split(X, y, test_size=0.15, random_state=42)"
   ]
  },
  {
   "cell_type": "code",
   "execution_count": 19,
   "id": "cadc2bd1",
   "metadata": {
    "execution": {
     "iopub.execute_input": "2025-10-14T09:25:55.361130Z",
     "iopub.status.busy": "2025-10-14T09:25:55.360826Z",
     "iopub.status.idle": "2025-10-14T09:25:55.886122Z",
     "shell.execute_reply": "2025-10-14T09:25:55.884633Z"
    },
    "papermill": {
     "duration": 0.533341,
     "end_time": "2025-10-14T09:25:55.887688",
     "exception": false,
     "start_time": "2025-10-14T09:25:55.354347",
     "status": "completed"
    },
    "tags": []
   },
   "outputs": [
    {
     "name": "stdout",
     "output_type": "stream",
     "text": [
      "Validation Accuracy=0.8433\n"
     ]
    }
   ],
   "source": [
    "# xgb_model = XGBClassifier(\n",
    "#     n_estimators=1000,\n",
    "#     max_depth=3,\n",
    "#     learning_rate=0.01,\n",
    "#     subsample=0.9,\n",
    "#     colsample_bytree=0.8,\n",
    "#     gamma=0.1,\n",
    "#     random_state=42,\n",
    "#     use_label_encoder=False,\n",
    "#     eval_metric='logloss'\n",
    "# )\n",
    "\n",
    "from xgboost import XGBClassifier\n",
    "from sklearn.metrics import accuracy_score\n",
    "    \n",
    "xgb_model = XGBClassifier(\n",
    "    n_estimators=2000,\n",
    "    learning_rate=0.01,\n",
    "    max_depth=2,\n",
    "    subsample=0.9,\n",
    "    colsample_bytree=0.8,\n",
    "    gamma=0.1,\n",
    "    random_state=42,\n",
    "    use_label_encoder=False,\n",
    "    eval_metric='logloss'\n",
    ")\n",
    "\n",
    "xgb_model.fit(X_train, y_train)\n",
    "y_pred = xgb_model.predict(X_val)\n",
    "acc = accuracy_score(y_val, y_pred)\n",
    "print(f\"Validation Accuracy={acc:.4f}\")"
   ]
  },
  {
   "cell_type": "code",
   "execution_count": 20,
   "id": "f8582936",
   "metadata": {
    "execution": {
     "iopub.execute_input": "2025-10-14T09:25:55.899619Z",
     "iopub.status.busy": "2025-10-14T09:25:55.899307Z",
     "iopub.status.idle": "2025-10-14T09:25:55.916073Z",
     "shell.execute_reply": "2025-10-14T09:25:55.915261Z"
    },
    "papermill": {
     "duration": 0.024394,
     "end_time": "2025-10-14T09:25:55.917447",
     "exception": false,
     "start_time": "2025-10-14T09:25:55.893053",
     "status": "completed"
    },
    "tags": []
   },
   "outputs": [
    {
     "name": "stdout",
     "output_type": "stream",
     "text": [
      "Submission file created: titanic_submission.csv\n"
     ]
    }
   ],
   "source": [
    "test_predictions = xgb_model.predict(X_test)\n",
    "\n",
    "# =========================\n",
    "# Create submission DataFrame\n",
    "# =========================\n",
    "submission = pd.DataFrame({\n",
    "    'PassengerId': test['PassengerId'],\n",
    "    'Survived': test_predictions\n",
    "})\n",
    "\n",
    "submission.to_csv('titanic_submission.csv', index=False)\n",
    "print(\"Submission file created: titanic_submission.csv\")"
   ]
  }
 ],
 "metadata": {
  "kaggle": {
   "accelerator": "none",
   "dataSources": [
    {
     "databundleVersionId": 26502,
     "sourceId": 3136,
     "sourceType": "competition"
    }
   ],
   "dockerImageVersionId": 31089,
   "isGpuEnabled": false,
   "isInternetEnabled": true,
   "language": "python",
   "sourceType": "notebook"
  },
  "kernelspec": {
   "display_name": "Python 3",
   "language": "python",
   "name": "python3"
  },
  "language_info": {
   "codemirror_mode": {
    "name": "ipython",
    "version": 3
   },
   "file_extension": ".py",
   "mimetype": "text/x-python",
   "name": "python",
   "nbconvert_exporter": "python",
   "pygments_lexer": "ipython3",
   "version": "3.11.13"
  },
  "papermill": {
   "default_parameters": {},
   "duration": 35.152504,
   "end_time": "2025-10-14T09:25:58.543071",
   "environment_variables": {},
   "exception": null,
   "input_path": "__notebook__.ipynb",
   "output_path": "__notebook__.ipynb",
   "parameters": {},
   "start_time": "2025-10-14T09:25:23.390567",
   "version": "2.6.0"
  }
 },
 "nbformat": 4,
 "nbformat_minor": 5
}
