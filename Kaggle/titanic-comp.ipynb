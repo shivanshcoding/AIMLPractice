{
 "cells": [
  {
   "cell_type": "code",
   "execution_count": 1,
   "id": "9030680d",
   "metadata": {
    "_cell_guid": "b1076dfc-b9ad-4769-8c92-a6c4dae69d19",
    "_uuid": "8f2839f25d086af736a60e9eeb907d3b93b6e0e5",
    "execution": {
     "iopub.execute_input": "2025-10-09T19:44:44.690742Z",
     "iopub.status.busy": "2025-10-09T19:44:44.690409Z",
     "iopub.status.idle": "2025-10-09T19:44:46.904956Z",
     "shell.execute_reply": "2025-10-09T19:44:46.903541Z"
    },
    "papermill": {
     "duration": 2.223426,
     "end_time": "2025-10-09T19:44:46.906789",
     "exception": false,
     "start_time": "2025-10-09T19:44:44.683363",
     "status": "completed"
    },
    "tags": []
   },
   "outputs": [
    {
     "name": "stdout",
     "output_type": "stream",
     "text": [
      "/kaggle/input/titanic/train.csv\n",
      "/kaggle/input/titanic/test.csv\n",
      "/kaggle/input/titanic/gender_submission.csv\n"
     ]
    }
   ],
   "source": [
    "# This Python 3 environment comes with many helpful analytics libraries installed\n",
    "# It is defined by the kaggle/python Docker image: https://github.com/kaggle/docker-python\n",
    "# For example, here's several helpful packages to load\n",
    "\n",
    "import numpy as np # linear algebra\n",
    "import pandas as pd # data processing, CSV file I/O (e.g. pd.read_csv)\n",
    "\n",
    "# Input data files are available in the read-only \"../input/\" directory\n",
    "# For example, running this (by clicking run or pressing Shift+Enter) will list all files under the input directory\n",
    "\n",
    "import os\n",
    "for dirname, _, filenames in os.walk('/kaggle/input'):\n",
    "    for filename in filenames:\n",
    "        print(os.path.join(dirname, filename))\n",
    "\n",
    "# You can write up to 20GB to the current directory (/kaggle/working/) that gets preserved as output when you create a version using \"Save & Run All\" \n",
    "# You can also write temporary files to /kaggle/temp/, but they won't be saved outside of the current session"
   ]
  },
  {
   "cell_type": "code",
   "execution_count": 2,
   "id": "077443b3",
   "metadata": {
    "execution": {
     "iopub.execute_input": "2025-10-09T19:44:46.919004Z",
     "iopub.status.busy": "2025-10-09T19:44:46.918582Z",
     "iopub.status.idle": "2025-10-09T19:44:49.942197Z",
     "shell.execute_reply": "2025-10-09T19:44:49.940749Z"
    },
    "papermill": {
     "duration": 3.031628,
     "end_time": "2025-10-09T19:44:49.944201",
     "exception": false,
     "start_time": "2025-10-09T19:44:46.912573",
     "status": "completed"
    },
    "tags": []
   },
   "outputs": [],
   "source": [
    "import matplotlib.pyplot as plt\n",
    "import seaborn as sns\n",
    "\n",
    "from sklearn.preprocessing import LabelEncoder, StandardScaler\n",
    "from sklearn.impute import SimpleImputer\n",
    "from sklearn.model_selection import train_test_split"
   ]
  },
  {
   "cell_type": "code",
   "execution_count": 3,
   "id": "bb1f2a89",
   "metadata": {
    "execution": {
     "iopub.execute_input": "2025-10-09T19:44:49.957906Z",
     "iopub.status.busy": "2025-10-09T19:44:49.957421Z",
     "iopub.status.idle": "2025-10-09T19:44:50.012596Z",
     "shell.execute_reply": "2025-10-09T19:44:50.011584Z"
    },
    "papermill": {
     "duration": 0.06478,
     "end_time": "2025-10-09T19:44:50.014414",
     "exception": false,
     "start_time": "2025-10-09T19:44:49.949634",
     "status": "completed"
    },
    "tags": []
   },
   "outputs": [
    {
     "data": {
      "text/html": [
       "<div>\n",
       "<style scoped>\n",
       "    .dataframe tbody tr th:only-of-type {\n",
       "        vertical-align: middle;\n",
       "    }\n",
       "\n",
       "    .dataframe tbody tr th {\n",
       "        vertical-align: top;\n",
       "    }\n",
       "\n",
       "    .dataframe thead th {\n",
       "        text-align: right;\n",
       "    }\n",
       "</style>\n",
       "<table border=\"1\" class=\"dataframe\">\n",
       "  <thead>\n",
       "    <tr style=\"text-align: right;\">\n",
       "      <th></th>\n",
       "      <th>PassengerId</th>\n",
       "      <th>Survived</th>\n",
       "      <th>Pclass</th>\n",
       "      <th>Name</th>\n",
       "      <th>Sex</th>\n",
       "      <th>Age</th>\n",
       "      <th>SibSp</th>\n",
       "      <th>Parch</th>\n",
       "      <th>Ticket</th>\n",
       "      <th>Fare</th>\n",
       "      <th>Cabin</th>\n",
       "      <th>Embarked</th>\n",
       "    </tr>\n",
       "  </thead>\n",
       "  <tbody>\n",
       "    <tr>\n",
       "      <th>0</th>\n",
       "      <td>1</td>\n",
       "      <td>0</td>\n",
       "      <td>3</td>\n",
       "      <td>Braund, Mr. Owen Harris</td>\n",
       "      <td>male</td>\n",
       "      <td>22.0</td>\n",
       "      <td>1</td>\n",
       "      <td>0</td>\n",
       "      <td>A/5 21171</td>\n",
       "      <td>7.2500</td>\n",
       "      <td>NaN</td>\n",
       "      <td>S</td>\n",
       "    </tr>\n",
       "    <tr>\n",
       "      <th>1</th>\n",
       "      <td>2</td>\n",
       "      <td>1</td>\n",
       "      <td>1</td>\n",
       "      <td>Cumings, Mrs. John Bradley (Florence Briggs Th...</td>\n",
       "      <td>female</td>\n",
       "      <td>38.0</td>\n",
       "      <td>1</td>\n",
       "      <td>0</td>\n",
       "      <td>PC 17599</td>\n",
       "      <td>71.2833</td>\n",
       "      <td>C85</td>\n",
       "      <td>C</td>\n",
       "    </tr>\n",
       "    <tr>\n",
       "      <th>2</th>\n",
       "      <td>3</td>\n",
       "      <td>1</td>\n",
       "      <td>3</td>\n",
       "      <td>Heikkinen, Miss. Laina</td>\n",
       "      <td>female</td>\n",
       "      <td>26.0</td>\n",
       "      <td>0</td>\n",
       "      <td>0</td>\n",
       "      <td>STON/O2. 3101282</td>\n",
       "      <td>7.9250</td>\n",
       "      <td>NaN</td>\n",
       "      <td>S</td>\n",
       "    </tr>\n",
       "    <tr>\n",
       "      <th>3</th>\n",
       "      <td>4</td>\n",
       "      <td>1</td>\n",
       "      <td>1</td>\n",
       "      <td>Futrelle, Mrs. Jacques Heath (Lily May Peel)</td>\n",
       "      <td>female</td>\n",
       "      <td>35.0</td>\n",
       "      <td>1</td>\n",
       "      <td>0</td>\n",
       "      <td>113803</td>\n",
       "      <td>53.1000</td>\n",
       "      <td>C123</td>\n",
       "      <td>S</td>\n",
       "    </tr>\n",
       "    <tr>\n",
       "      <th>4</th>\n",
       "      <td>5</td>\n",
       "      <td>0</td>\n",
       "      <td>3</td>\n",
       "      <td>Allen, Mr. William Henry</td>\n",
       "      <td>male</td>\n",
       "      <td>35.0</td>\n",
       "      <td>0</td>\n",
       "      <td>0</td>\n",
       "      <td>373450</td>\n",
       "      <td>8.0500</td>\n",
       "      <td>NaN</td>\n",
       "      <td>S</td>\n",
       "    </tr>\n",
       "  </tbody>\n",
       "</table>\n",
       "</div>"
      ],
      "text/plain": [
       "   PassengerId  Survived  Pclass  \\\n",
       "0            1         0       3   \n",
       "1            2         1       1   \n",
       "2            3         1       3   \n",
       "3            4         1       1   \n",
       "4            5         0       3   \n",
       "\n",
       "                                                Name     Sex   Age  SibSp  \\\n",
       "0                            Braund, Mr. Owen Harris    male  22.0      1   \n",
       "1  Cumings, Mrs. John Bradley (Florence Briggs Th...  female  38.0      1   \n",
       "2                             Heikkinen, Miss. Laina  female  26.0      0   \n",
       "3       Futrelle, Mrs. Jacques Heath (Lily May Peel)  female  35.0      1   \n",
       "4                           Allen, Mr. William Henry    male  35.0      0   \n",
       "\n",
       "   Parch            Ticket     Fare Cabin Embarked  \n",
       "0      0         A/5 21171   7.2500   NaN        S  \n",
       "1      0          PC 17599  71.2833   C85        C  \n",
       "2      0  STON/O2. 3101282   7.9250   NaN        S  \n",
       "3      0            113803  53.1000  C123        S  \n",
       "4      0            373450   8.0500   NaN        S  "
      ]
     },
     "execution_count": 3,
     "metadata": {},
     "output_type": "execute_result"
    }
   ],
   "source": [
    "file_path_train = \"/kaggle/input/titanic/train.csv\"\n",
    "train = pd.read_csv(file_path_train)\n",
    "train.head()"
   ]
  },
  {
   "cell_type": "code",
   "execution_count": 4,
   "id": "1a0bd242",
   "metadata": {
    "execution": {
     "iopub.execute_input": "2025-10-09T19:44:50.026547Z",
     "iopub.status.busy": "2025-10-09T19:44:50.026162Z",
     "iopub.status.idle": "2025-10-09T19:44:50.047452Z",
     "shell.execute_reply": "2025-10-09T19:44:50.046117Z"
    },
    "papermill": {
     "duration": 0.029367,
     "end_time": "2025-10-09T19:44:50.049194",
     "exception": false,
     "start_time": "2025-10-09T19:44:50.019827",
     "status": "completed"
    },
    "tags": []
   },
   "outputs": [
    {
     "data": {
      "text/html": [
       "<div>\n",
       "<style scoped>\n",
       "    .dataframe tbody tr th:only-of-type {\n",
       "        vertical-align: middle;\n",
       "    }\n",
       "\n",
       "    .dataframe tbody tr th {\n",
       "        vertical-align: top;\n",
       "    }\n",
       "\n",
       "    .dataframe thead th {\n",
       "        text-align: right;\n",
       "    }\n",
       "</style>\n",
       "<table border=\"1\" class=\"dataframe\">\n",
       "  <thead>\n",
       "    <tr style=\"text-align: right;\">\n",
       "      <th></th>\n",
       "      <th>PassengerId</th>\n",
       "      <th>Pclass</th>\n",
       "      <th>Name</th>\n",
       "      <th>Sex</th>\n",
       "      <th>Age</th>\n",
       "      <th>SibSp</th>\n",
       "      <th>Parch</th>\n",
       "      <th>Ticket</th>\n",
       "      <th>Fare</th>\n",
       "      <th>Cabin</th>\n",
       "      <th>Embarked</th>\n",
       "    </tr>\n",
       "  </thead>\n",
       "  <tbody>\n",
       "    <tr>\n",
       "      <th>0</th>\n",
       "      <td>892</td>\n",
       "      <td>3</td>\n",
       "      <td>Kelly, Mr. James</td>\n",
       "      <td>male</td>\n",
       "      <td>34.5</td>\n",
       "      <td>0</td>\n",
       "      <td>0</td>\n",
       "      <td>330911</td>\n",
       "      <td>7.8292</td>\n",
       "      <td>NaN</td>\n",
       "      <td>Q</td>\n",
       "    </tr>\n",
       "    <tr>\n",
       "      <th>1</th>\n",
       "      <td>893</td>\n",
       "      <td>3</td>\n",
       "      <td>Wilkes, Mrs. James (Ellen Needs)</td>\n",
       "      <td>female</td>\n",
       "      <td>47.0</td>\n",
       "      <td>1</td>\n",
       "      <td>0</td>\n",
       "      <td>363272</td>\n",
       "      <td>7.0000</td>\n",
       "      <td>NaN</td>\n",
       "      <td>S</td>\n",
       "    </tr>\n",
       "    <tr>\n",
       "      <th>2</th>\n",
       "      <td>894</td>\n",
       "      <td>2</td>\n",
       "      <td>Myles, Mr. Thomas Francis</td>\n",
       "      <td>male</td>\n",
       "      <td>62.0</td>\n",
       "      <td>0</td>\n",
       "      <td>0</td>\n",
       "      <td>240276</td>\n",
       "      <td>9.6875</td>\n",
       "      <td>NaN</td>\n",
       "      <td>Q</td>\n",
       "    </tr>\n",
       "    <tr>\n",
       "      <th>3</th>\n",
       "      <td>895</td>\n",
       "      <td>3</td>\n",
       "      <td>Wirz, Mr. Albert</td>\n",
       "      <td>male</td>\n",
       "      <td>27.0</td>\n",
       "      <td>0</td>\n",
       "      <td>0</td>\n",
       "      <td>315154</td>\n",
       "      <td>8.6625</td>\n",
       "      <td>NaN</td>\n",
       "      <td>S</td>\n",
       "    </tr>\n",
       "    <tr>\n",
       "      <th>4</th>\n",
       "      <td>896</td>\n",
       "      <td>3</td>\n",
       "      <td>Hirvonen, Mrs. Alexander (Helga E Lindqvist)</td>\n",
       "      <td>female</td>\n",
       "      <td>22.0</td>\n",
       "      <td>1</td>\n",
       "      <td>1</td>\n",
       "      <td>3101298</td>\n",
       "      <td>12.2875</td>\n",
       "      <td>NaN</td>\n",
       "      <td>S</td>\n",
       "    </tr>\n",
       "  </tbody>\n",
       "</table>\n",
       "</div>"
      ],
      "text/plain": [
       "   PassengerId  Pclass                                          Name     Sex  \\\n",
       "0          892       3                              Kelly, Mr. James    male   \n",
       "1          893       3              Wilkes, Mrs. James (Ellen Needs)  female   \n",
       "2          894       2                     Myles, Mr. Thomas Francis    male   \n",
       "3          895       3                              Wirz, Mr. Albert    male   \n",
       "4          896       3  Hirvonen, Mrs. Alexander (Helga E Lindqvist)  female   \n",
       "\n",
       "    Age  SibSp  Parch   Ticket     Fare Cabin Embarked  \n",
       "0  34.5      0      0   330911   7.8292   NaN        Q  \n",
       "1  47.0      1      0   363272   7.0000   NaN        S  \n",
       "2  62.0      0      0   240276   9.6875   NaN        Q  \n",
       "3  27.0      0      0   315154   8.6625   NaN        S  \n",
       "4  22.0      1      1  3101298  12.2875   NaN        S  "
      ]
     },
     "execution_count": 4,
     "metadata": {},
     "output_type": "execute_result"
    }
   ],
   "source": [
    "file_path_test = \"/kaggle/input/titanic/test.csv\"\n",
    "test = pd.read_csv(file_path_test)\n",
    "test.head()"
   ]
  },
  {
   "cell_type": "code",
   "execution_count": 5,
   "id": "baa1ef76",
   "metadata": {
    "execution": {
     "iopub.execute_input": "2025-10-09T19:44:50.061335Z",
     "iopub.status.busy": "2025-10-09T19:44:50.060950Z",
     "iopub.status.idle": "2025-10-09T19:44:50.069127Z",
     "shell.execute_reply": "2025-10-09T19:44:50.068410Z"
    },
    "papermill": {
     "duration": 0.015908,
     "end_time": "2025-10-09T19:44:50.070645",
     "exception": false,
     "start_time": "2025-10-09T19:44:50.054737",
     "status": "completed"
    },
    "tags": []
   },
   "outputs": [
    {
     "data": {
      "text/plain": [
       "PassengerId      0\n",
       "Survived         0\n",
       "Pclass           0\n",
       "Name             0\n",
       "Sex              0\n",
       "Age            177\n",
       "SibSp            0\n",
       "Parch            0\n",
       "Ticket           0\n",
       "Fare             0\n",
       "Cabin          687\n",
       "Embarked         2\n",
       "dtype: int64"
      ]
     },
     "execution_count": 5,
     "metadata": {},
     "output_type": "execute_result"
    }
   ],
   "source": [
    "train.isna().sum()"
   ]
  },
  {
   "cell_type": "code",
   "execution_count": 6,
   "id": "ebd82b75",
   "metadata": {
    "execution": {
     "iopub.execute_input": "2025-10-09T19:44:50.083251Z",
     "iopub.status.busy": "2025-10-09T19:44:50.082958Z",
     "iopub.status.idle": "2025-10-09T19:44:50.091601Z",
     "shell.execute_reply": "2025-10-09T19:44:50.090333Z"
    },
    "papermill": {
     "duration": 0.017147,
     "end_time": "2025-10-09T19:44:50.093105",
     "exception": false,
     "start_time": "2025-10-09T19:44:50.075958",
     "status": "completed"
    },
    "tags": []
   },
   "outputs": [
    {
     "data": {
      "text/plain": [
       "PassengerId      0\n",
       "Pclass           0\n",
       "Name             0\n",
       "Sex              0\n",
       "Age             86\n",
       "SibSp            0\n",
       "Parch            0\n",
       "Ticket           0\n",
       "Fare             1\n",
       "Cabin          327\n",
       "Embarked         0\n",
       "dtype: int64"
      ]
     },
     "execution_count": 6,
     "metadata": {},
     "output_type": "execute_result"
    }
   ],
   "source": [
    "test.isna().sum()"
   ]
  },
  {
   "cell_type": "code",
   "execution_count": 7,
   "id": "add2d4bf",
   "metadata": {
    "execution": {
     "iopub.execute_input": "2025-10-09T19:44:50.106575Z",
     "iopub.status.busy": "2025-10-09T19:44:50.106195Z",
     "iopub.status.idle": "2025-10-09T19:44:50.117185Z",
     "shell.execute_reply": "2025-10-09T19:44:50.116198Z"
    },
    "papermill": {
     "duration": 0.020157,
     "end_time": "2025-10-09T19:44:50.118947",
     "exception": false,
     "start_time": "2025-10-09T19:44:50.098790",
     "status": "completed"
    },
    "tags": []
   },
   "outputs": [],
   "source": [
    "# 3.3 Family size\n",
    "for df in [train, test]:\n",
    "    df['FamilySize'] = df['SibSp'] + df['Parch'] + 1\n",
    "    df['IsAlone'] = np.where(df['FamilySize'] == 1, 1, 0)"
   ]
  },
  {
   "cell_type": "code",
   "execution_count": 8,
   "id": "33aae042",
   "metadata": {
    "execution": {
     "iopub.execute_input": "2025-10-09T19:44:50.131127Z",
     "iopub.status.busy": "2025-10-09T19:44:50.130784Z",
     "iopub.status.idle": "2025-10-09T19:44:50.143412Z",
     "shell.execute_reply": "2025-10-09T19:44:50.141516Z"
    },
    "papermill": {
     "duration": 0.021555,
     "end_time": "2025-10-09T19:44:50.145993",
     "exception": false,
     "start_time": "2025-10-09T19:44:50.124438",
     "status": "completed"
    },
    "tags": []
   },
   "outputs": [
    {
     "data": {
      "text/plain": [
       "PassengerId      0\n",
       "Survived         0\n",
       "Pclass           0\n",
       "Name             0\n",
       "Sex              0\n",
       "Age            177\n",
       "SibSp            0\n",
       "Parch            0\n",
       "Ticket           0\n",
       "Fare             0\n",
       "Cabin          687\n",
       "Embarked         2\n",
       "FamilySize       0\n",
       "IsAlone          0\n",
       "dtype: int64"
      ]
     },
     "execution_count": 8,
     "metadata": {},
     "output_type": "execute_result"
    }
   ],
   "source": [
    "train.isna().sum()"
   ]
  },
  {
   "cell_type": "code",
   "execution_count": 9,
   "id": "3df1f2e3",
   "metadata": {
    "execution": {
     "iopub.execute_input": "2025-10-09T19:44:50.161921Z",
     "iopub.status.busy": "2025-10-09T19:44:50.161583Z",
     "iopub.status.idle": "2025-10-09T19:44:50.173500Z",
     "shell.execute_reply": "2025-10-09T19:44:50.171668Z"
    },
    "papermill": {
     "duration": 0.022995,
     "end_time": "2025-10-09T19:44:50.175795",
     "exception": false,
     "start_time": "2025-10-09T19:44:50.152800",
     "status": "completed"
    },
    "tags": []
   },
   "outputs": [
    {
     "data": {
      "text/plain": [
       "PassengerId      0\n",
       "Pclass           0\n",
       "Name             0\n",
       "Sex              0\n",
       "Age             86\n",
       "SibSp            0\n",
       "Parch            0\n",
       "Ticket           0\n",
       "Fare             1\n",
       "Cabin          327\n",
       "Embarked         0\n",
       "FamilySize       0\n",
       "IsAlone          0\n",
       "dtype: int64"
      ]
     },
     "execution_count": 9,
     "metadata": {},
     "output_type": "execute_result"
    }
   ],
   "source": [
    "test.isna().sum()"
   ]
  },
  {
   "cell_type": "code",
   "execution_count": 10,
   "id": "820cb243",
   "metadata": {
    "execution": {
     "iopub.execute_input": "2025-10-09T19:44:50.191463Z",
     "iopub.status.busy": "2025-10-09T19:44:50.191099Z",
     "iopub.status.idle": "2025-10-09T19:44:50.210784Z",
     "shell.execute_reply": "2025-10-09T19:44:50.209490Z"
    },
    "papermill": {
     "duration": 0.02988,
     "end_time": "2025-10-09T19:44:50.212751",
     "exception": false,
     "start_time": "2025-10-09T19:44:50.182871",
     "status": "completed"
    },
    "tags": []
   },
   "outputs": [
    {
     "data": {
      "text/plain": [
       "PassengerId      0\n",
       "Survived         0\n",
       "Pclass           0\n",
       "Name             0\n",
       "Sex              0\n",
       "Age            177\n",
       "SibSp            0\n",
       "Parch            0\n",
       "Ticket           0\n",
       "Fare             0\n",
       "Cabin          687\n",
       "Embarked         0\n",
       "FamilySize       0\n",
       "IsAlone          0\n",
       "dtype: int64"
      ]
     },
     "execution_count": 10,
     "metadata": {},
     "output_type": "execute_result"
    }
   ],
   "source": [
    "# print(train[train['Embarked'].isna()])\n",
    "train.loc[train['PassengerId'].isin([62, 830]), 'Embarked'] = 'C'\n",
    "train.isna().sum()"
   ]
  },
  {
   "cell_type": "code",
   "execution_count": 11,
   "id": "8702c74e",
   "metadata": {
    "execution": {
     "iopub.execute_input": "2025-10-09T19:44:50.225355Z",
     "iopub.status.busy": "2025-10-09T19:44:50.225025Z",
     "iopub.status.idle": "2025-10-09T19:44:50.238892Z",
     "shell.execute_reply": "2025-10-09T19:44:50.237764Z"
    },
    "papermill": {
     "duration": 0.022257,
     "end_time": "2025-10-09T19:44:50.240767",
     "exception": false,
     "start_time": "2025-10-09T19:44:50.218510",
     "status": "completed"
    },
    "tags": []
   },
   "outputs": [],
   "source": [
    "missing_fare_index = test[test['Fare'].isna()].index\n",
    "# print(test.loc[missing_fare_index])\n",
    "for idx in missing_fare_index:\n",
    "    pclass = test.loc[idx, 'Pclass']\n",
    "    median_fare = test[test['Pclass'] == pclass]['Fare'].median()\n",
    "    test.loc[idx, 'Fare'] = median_fare"
   ]
  },
  {
   "cell_type": "code",
   "execution_count": 12,
   "id": "8faafcd5",
   "metadata": {
    "execution": {
     "iopub.execute_input": "2025-10-09T19:44:50.254599Z",
     "iopub.status.busy": "2025-10-09T19:44:50.254225Z",
     "iopub.status.idle": "2025-10-09T19:44:50.264238Z",
     "shell.execute_reply": "2025-10-09T19:44:50.262915Z"
    },
    "papermill": {
     "duration": 0.01863,
     "end_time": "2025-10-09T19:44:50.266086",
     "exception": false,
     "start_time": "2025-10-09T19:44:50.247456",
     "status": "completed"
    },
    "tags": []
   },
   "outputs": [
    {
     "data": {
      "text/plain": [
       "PassengerId      0\n",
       "Pclass           0\n",
       "Name             0\n",
       "Sex              0\n",
       "Age             86\n",
       "SibSp            0\n",
       "Parch            0\n",
       "Ticket           0\n",
       "Fare             0\n",
       "Cabin          327\n",
       "Embarked         0\n",
       "FamilySize       0\n",
       "IsAlone          0\n",
       "dtype: int64"
      ]
     },
     "execution_count": 12,
     "metadata": {},
     "output_type": "execute_result"
    }
   ],
   "source": [
    "test.isna().sum()"
   ]
  },
  {
   "cell_type": "code",
   "execution_count": 13,
   "id": "090d2dd0",
   "metadata": {
    "execution": {
     "iopub.execute_input": "2025-10-09T19:44:50.281800Z",
     "iopub.status.busy": "2025-10-09T19:44:50.281462Z",
     "iopub.status.idle": "2025-10-09T19:44:50.292715Z",
     "shell.execute_reply": "2025-10-09T19:44:50.291515Z"
    },
    "papermill": {
     "duration": 0.021058,
     "end_time": "2025-10-09T19:44:50.294568",
     "exception": false,
     "start_time": "2025-10-09T19:44:50.273510",
     "status": "completed"
    },
    "tags": []
   },
   "outputs": [
    {
     "name": "stdout",
     "output_type": "stream",
     "text": [
      "['male' 'female']\n",
      "['male' 'female']\n",
      "['S' 'C' 'Q']\n",
      "['Q' 'S' 'C']\n"
     ]
    }
   ],
   "source": [
    "print(train['Sex'].unique())\n",
    "print(test['Sex'].unique())\n",
    "\n",
    "print(train['Embarked'].unique())\n",
    "print(test['Embarked'].unique())\n"
   ]
  },
  {
   "cell_type": "code",
   "execution_count": 14,
   "id": "b4af32a7",
   "metadata": {
    "execution": {
     "iopub.execute_input": "2025-10-09T19:44:50.308563Z",
     "iopub.status.busy": "2025-10-09T19:44:50.308210Z",
     "iopub.status.idle": "2025-10-09T19:44:50.317802Z",
     "shell.execute_reply": "2025-10-09T19:44:50.316789Z"
    },
    "papermill": {
     "duration": 0.018391,
     "end_time": "2025-10-09T19:44:50.319678",
     "exception": false,
     "start_time": "2025-10-09T19:44:50.301287",
     "status": "completed"
    },
    "tags": []
   },
   "outputs": [],
   "source": [
    "mapping = {'S':0, 'C':1, 'Q':2}\n",
    "for df in [train, test]:\n",
    "    df['Sex'] = df['Sex'].map({'male':0, 'female':1})\n",
    "    df['Embarked'] = df['Embarked'].map(mapping)"
   ]
  },
  {
   "cell_type": "code",
   "execution_count": 15,
   "id": "d8aa2d49",
   "metadata": {
    "execution": {
     "iopub.execute_input": "2025-10-09T19:44:50.333365Z",
     "iopub.status.busy": "2025-10-09T19:44:50.332887Z",
     "iopub.status.idle": "2025-10-09T19:44:50.337848Z",
     "shell.execute_reply": "2025-10-09T19:44:50.336597Z"
    },
    "papermill": {
     "duration": 0.01405,
     "end_time": "2025-10-09T19:44:50.339800",
     "exception": false,
     "start_time": "2025-10-09T19:44:50.325750",
     "status": "completed"
    },
    "tags": []
   },
   "outputs": [],
   "source": [
    "# age_features = ['Pclass', 'Sex', 'SibSp', 'Parch', 'Fare', 'Embarked', 'FamilySize', 'IsAlone']\n",
    "\n",
    "# train_known_age = train[train['Age'].notna()]\n",
    "# train_missing_age = train[train['Age'].isna()]\n",
    "\n",
    "# from sklearn.ensemble import RandomForestRegressor\n",
    "\n",
    "# age_model = RandomForestRegressor(n_estimators=100, random_state=42)\n",
    "# age_model.fit(train_known_age[age_features], train_known_age['Age'])\n",
    "\n",
    "# train.loc[train['Age'].isna(), 'Age'] = age_model.predict(train_missing_age[age_features])\n",
    "# test_missing_age = test[test['Age'].isna()]\n",
    "# test.loc[test['Age'].isna(), 'Age'] = age_model.predict(test_missing_age[age_features])\n",
    "\n"
   ]
  },
  {
   "cell_type": "code",
   "execution_count": 16,
   "id": "fe2e1825",
   "metadata": {
    "execution": {
     "iopub.execute_input": "2025-10-09T19:44:50.354015Z",
     "iopub.status.busy": "2025-10-09T19:44:50.353665Z",
     "iopub.status.idle": "2025-10-09T19:45:05.482507Z",
     "shell.execute_reply": "2025-10-09T19:45:05.481389Z"
    },
    "papermill": {
     "duration": 15.138417,
     "end_time": "2025-10-09T19:45:05.484697",
     "exception": false,
     "start_time": "2025-10-09T19:44:50.346280",
     "status": "completed"
    },
    "tags": []
   },
   "outputs": [
    {
     "name": "stdout",
     "output_type": "stream",
     "text": [
      "Fitting 3 folds for each of 30 candidates, totalling 90 fits\n",
      "Best Params for Age Model: {'regressor__l2_regularization': 0.003533152609858703, 'regressor__learning_rate': 0.014612485008283152, 'regressor__max_depth': 5, 'regressor__max_iter': 158}\n"
     ]
    }
   ],
   "source": [
    "import pandas as pd\n",
    "import numpy as np\n",
    "from sklearn.ensemble import HistGradientBoostingRegressor\n",
    "from sklearn.model_selection import RandomizedSearchCV\n",
    "from sklearn.preprocessing import OneHotEncoder, StandardScaler, PolynomialFeatures\n",
    "from sklearn.compose import ColumnTransformer\n",
    "from sklearn.pipeline import Pipeline\n",
    "from sklearn.impute import SimpleImputer\n",
    "from scipy.stats import randint, uniform\n",
    "\n",
    "# ✅ 1. Features to use for age prediction\n",
    "age_features = ['Pclass', 'Sex', 'Fare', 'Embarked', 'FamilySize', 'IsAlone']\n",
    "\n",
    "# ✅ 2. Separate rows with known and missing Age\n",
    "train_known_age = train[train['Age'].notna()]\n",
    "train_missing_age = train[train['Age'].isna()]\n",
    "test_missing_age = test[test['Age'].isna()]\n",
    "\n",
    "# ✅ 3. Identify categorical & numerical columns\n",
    "cat_cols = ['Sex', 'Embarked', 'IsAlone']\n",
    "num_cols = ['Pclass', 'Fare', 'FamilySize']\n",
    "\n",
    "# ✅ 4. Preprocessing pipelines\n",
    "num_transformer = Pipeline([\n",
    "    ('imputer', SimpleImputer(strategy='median')),\n",
    "    ('scaler', StandardScaler()),\n",
    "    ('poly', PolynomialFeatures(degree=2, include_bias=False))  # adds interaction & squared terms\n",
    "])\n",
    "\n",
    "cat_transformer = Pipeline([\n",
    "    ('imputer', SimpleImputer(strategy='most_frequent')),\n",
    "    ('onehot', OneHotEncoder(handle_unknown='ignore'))\n",
    "])\n",
    "\n",
    "preprocessor = ColumnTransformer([\n",
    "    ('num', num_transformer, num_cols),\n",
    "    ('cat', cat_transformer, cat_cols)\n",
    "])\n",
    "\n",
    "# ✅ 5. Regressor model — HistGradientBoosting often performs better than RF\n",
    "model = HistGradientBoostingRegressor(random_state=42)\n",
    "\n",
    "# ✅ 6. Build pipeline\n",
    "pipe = Pipeline([\n",
    "    ('preprocessor', preprocessor),\n",
    "    ('regressor', model)\n",
    "])\n",
    "\n",
    "# ✅ 7. Hyperparameter tuning with RandomizedSearchCV\n",
    "param_dist = {\n",
    "    'regressor__max_depth': randint(3, 10),\n",
    "    'regressor__learning_rate': uniform(0.01, 0.2),\n",
    "    'regressor__max_iter': randint(100, 400),\n",
    "    'regressor__l2_regularization': uniform(0.0, 0.5)\n",
    "}\n",
    "\n",
    "search = RandomizedSearchCV(\n",
    "    pipe,\n",
    "    param_distributions=param_dist,\n",
    "    n_iter=30,\n",
    "    cv=3,\n",
    "    n_jobs=-1,\n",
    "    scoring='neg_mean_absolute_error',\n",
    "    random_state=42,\n",
    "    verbose=1\n",
    ")\n",
    "\n",
    "# ✅ 8. Train on rows with known Age\n",
    "search.fit(train_known_age[age_features], train_known_age['Age'])\n",
    "best_model = search.best_estimator_\n",
    "print(\"Best Params for Age Model:\", search.best_params_)\n",
    "\n",
    "# ✅ 9. Predict missing Age for TRAIN\n",
    "if not train_missing_age.empty:\n",
    "    train.loc[train['Age'].isna(), 'Age'] = best_model.predict(train_missing_age[age_features])\n",
    "\n",
    "# ✅ 10. Predict missing Age for TEST\n",
    "test_missing_age = test[test['Age'].isna()]\n",
    "if not test_missing_age.empty:\n",
    "    test.loc[test['Age'].isna(), 'Age'] = best_model.predict(test_missing_age[age_features])\n",
    "\n"
   ]
  },
  {
   "cell_type": "code",
   "execution_count": 17,
   "id": "e6cefb44",
   "metadata": {
    "execution": {
     "iopub.execute_input": "2025-10-09T19:45:05.503155Z",
     "iopub.status.busy": "2025-10-09T19:45:05.502822Z",
     "iopub.status.idle": "2025-10-09T19:45:05.957659Z",
     "shell.execute_reply": "2025-10-09T19:45:05.956420Z"
    },
    "papermill": {
     "duration": 0.466171,
     "end_time": "2025-10-09T19:45:05.959591",
     "exception": false,
     "start_time": "2025-10-09T19:45:05.493420",
     "status": "completed"
    },
    "tags": []
   },
   "outputs": [
    {
     "name": "stdout",
     "output_type": "stream",
     "text": [
      "Missing Ages in Train after imputation: 0\n",
      "Missing Ages in Test after imputation: 0\n"
     ]
    },
    {
     "data": {
      "image/png": "[encoded data removed]",
      "text/plain": [
       "<Figure size 1000x500 with 1 Axes>"
      ]
     },
     "metadata": {},
     "output_type": "display_data"
    }
   ],
   "source": [
    "# Check if any missing Age values remain\n",
    "print(\"Missing Ages in Train after imputation:\", train['Age'].isna().sum())\n",
    "print(\"Missing Ages in Test after imputation:\", test['Age'].isna().sum())\n",
    "\n",
    "# Optional: check distribution\n",
    "import matplotlib.pyplot as plt\n",
    "\n",
    "plt.figure(figsize=(10,5))\n",
    "plt.hist(train['Age'], bins=30, alpha=0.7, label='Train Age')\n",
    "plt.hist(test['Age'], bins=30, alpha=0.7, label='Test Age')\n",
    "plt.title('Age Distribution After Imputation')\n",
    "plt.xlabel('Age')\n",
    "plt.ylabel('Frequency')\n",
    "plt.legend()\n",
    "plt.show()\n"
   ]
  },
  {
   "cell_type": "code",
   "execution_count": 18,
   "id": "521358ac",
   "metadata": {
    "execution": {
     "iopub.execute_input": "2025-10-09T19:45:05.976163Z",
     "iopub.status.busy": "2025-10-09T19:45:05.975783Z",
     "iopub.status.idle": "2025-10-09T19:45:05.998791Z",
     "shell.execute_reply": "2025-10-09T19:45:05.996434Z"
    },
    "papermill": {
     "duration": 0.033907,
     "end_time": "2025-10-09T19:45:06.001247",
     "exception": false,
     "start_time": "2025-10-09T19:45:05.967340",
     "status": "completed"
    },
    "tags": []
   },
   "outputs": [
    {
     "name": "stdout",
     "output_type": "stream",
     "text": [
      "PassengerId        0\n",
      "Pclass             0\n",
      "Name               0\n",
      "Sex                0\n",
      "Age                0\n",
      "SibSp              0\n",
      "Parch              0\n",
      "Ticket             0\n",
      "Fare               0\n",
      "Cabin            327\n",
      "Embarked           0\n",
      "FamilySize         0\n",
      "IsAlone            0\n",
      "Title              0\n",
      "FarePerPerson      0\n",
      "dtype: int64\n",
      "PassengerId        0\n",
      "Survived           0\n",
      "Pclass             0\n",
      "Name               0\n",
      "Sex                0\n",
      "Age                0\n",
      "SibSp              0\n",
      "Parch              0\n",
      "Ticket             0\n",
      "Fare               0\n",
      "Cabin            687\n",
      "Embarked           0\n",
      "FamilySize         0\n",
      "IsAlone            0\n",
      "Title              0\n",
      "FarePerPerson      0\n",
      "dtype: int64\n"
     ]
    }
   ],
   "source": [
    "# Extract title\n",
    "for df in [train, test]:\n",
    "    df['Title'] = df['Name'].str.extract(' ([A-Za-z]+)\\.', expand=False)\n",
    "\n",
    "# Map rare titles\n",
    "title_mapping = {\n",
    "    'Mr':0, 'Miss':1, 'Mrs':2, 'Master':3,\n",
    "    'Don':4, 'Rev':4, 'Dr':4, 'Mme':2, 'Ms':1, 'Major':4,\n",
    "    'Lady':4, 'Sir':4, 'Mlle':1, 'Col':4, 'Capt':4, 'Countess':4, 'Jonkheer':4, 'Dona':4\n",
    "}\n",
    "\n",
    "for df in [train, test]:\n",
    "    df['Title'] = df['Title'].map(title_mapping)\n",
    "\n",
    "train['FarePerPerson'] = train['Fare'] / train['FamilySize']\n",
    "test['FarePerPerson'] = test['Fare'] / test['FamilySize']\n",
    "\n",
    "for df in [test,train]:\n",
    "    print(df.isna().sum())\n"
   ]
  },
  {
   "cell_type": "code",
   "execution_count": 19,
   "id": "c36cec22",
   "metadata": {
    "execution": {
     "iopub.execute_input": "2025-10-09T19:45:06.016283Z",
     "iopub.status.busy": "2025-10-09T19:45:06.015908Z",
     "iopub.status.idle": "2025-10-09T19:45:06.023879Z",
     "shell.execute_reply": "2025-10-09T19:45:06.022491Z"
    },
    "papermill": {
     "duration": 0.017407,
     "end_time": "2025-10-09T19:45:06.025555",
     "exception": false,
     "start_time": "2025-10-09T19:45:06.008148",
     "status": "completed"
    },
    "tags": []
   },
   "outputs": [],
   "source": [
    "drop_cols = ['PassengerId', 'Name', 'Ticket', 'Cabin','FamilySize', 'SibSp', 'FarePerPerson']\n",
    "\n",
    "X = train.drop(columns=drop_cols + ['Survived'])\n",
    "y = train['Survived']\n",
    "X_test = test.drop(columns=drop_cols)"
   ]
  },
  {
   "cell_type": "code",
   "execution_count": 20,
   "id": "52bd60b7",
   "metadata": {
    "execution": {
     "iopub.execute_input": "2025-10-09T19:45:06.040539Z",
     "iopub.status.busy": "2025-10-09T19:45:06.039871Z",
     "iopub.status.idle": "2025-10-09T19:45:06.050672Z",
     "shell.execute_reply": "2025-10-09T19:45:06.049221Z"
    },
    "papermill": {
     "duration": 0.020433,
     "end_time": "2025-10-09T19:45:06.052546",
     "exception": false,
     "start_time": "2025-10-09T19:45:06.032113",
     "status": "completed"
    },
    "tags": []
   },
   "outputs": [
    {
     "name": "stdout",
     "output_type": "stream",
     "text": [
      "Survived    1.000000\n",
      "Sex         0.543351\n",
      "Title       0.407753\n",
      "Fare        0.257307\n",
      "Embarked    0.111203\n",
      "Parch       0.081629\n",
      "Age        -0.066881\n",
      "IsAlone    -0.203367\n",
      "Pclass     -0.338481\n",
      "Name: Survived, dtype: float64\n"
     ]
    }
   ],
   "source": [
    "corr_with_target = train.drop(columns=drop_cols).corr()['Survived'].sort_values(ascending=False)\n",
    "print(corr_with_target)"
   ]
  },
  {
   "cell_type": "code",
   "execution_count": 21,
   "id": "4f13d098",
   "metadata": {
    "execution": {
     "iopub.execute_input": "2025-10-09T19:45:06.067518Z",
     "iopub.status.busy": "2025-10-09T19:45:06.067140Z",
     "iopub.status.idle": "2025-10-09T19:45:06.082468Z",
     "shell.execute_reply": "2025-10-09T19:45:06.080876Z"
    },
    "papermill": {
     "duration": 0.02478,
     "end_time": "2025-10-09T19:45:06.084392",
     "exception": false,
     "start_time": "2025-10-09T19:45:06.059612",
     "status": "completed"
    },
    "tags": []
   },
   "outputs": [
    {
     "name": "stdout",
     "output_type": "stream",
     "text": [
      "            Pclass       Sex       Age     Parch      Fare  Embarked  \\\n",
      "Pclass    1.000000 -0.131900 -0.391088  0.018443 -0.549500  0.040138   \n",
      "Sex      -0.131900  1.000000 -0.109785  0.245489  0.182333  0.121266   \n",
      "Age      -0.391088 -0.109785  1.000000 -0.207506  0.097087 -0.006455   \n",
      "Parch     0.018443  0.245489 -0.207506  1.000000  0.216225 -0.080277   \n",
      "Fare     -0.549500  0.182333  0.097087  0.216225  1.000000  0.065492   \n",
      "Embarked  0.040138  0.121266 -0.006455 -0.080277  0.065492  1.000000   \n",
      "IsAlone   0.135207 -0.303646  0.210565 -0.583398 -0.271832  0.020660   \n",
      "Title    -0.173929  0.502713 -0.113768  0.315784  0.136310  0.048012   \n",
      "\n",
      "           IsAlone     Title  \n",
      "Pclass    0.135207 -0.173929  \n",
      "Sex      -0.303646  0.502713  \n",
      "Age       0.210565 -0.113768  \n",
      "Parch    -0.583398  0.315784  \n",
      "Fare     -0.271832  0.136310  \n",
      "Embarked  0.020660  0.048012  \n",
      "IsAlone   1.000000 -0.405813  \n",
      "Title    -0.405813  1.000000  \n",
      "            Pclass       Sex       Age     Parch      Fare  Embarked  \\\n",
      "Pclass    1.000000 -0.108615 -0.504044  0.018721 -0.577488  0.031096   \n",
      "Sex      -0.108615  1.000000 -0.018245  0.159120  0.192225  0.126779   \n",
      "Age      -0.504044 -0.018245  1.000000 -0.099724  0.324643  0.056133   \n",
      "Parch     0.018721  0.159120 -0.099724  1.000000  0.230409 -0.125164   \n",
      "Fare     -0.577488  0.192225  0.324643  0.230409  1.000000  0.054349   \n",
      "Embarked  0.031096  0.126779  0.056133 -0.125164  0.054349  1.000000   \n",
      "IsAlone   0.173555 -0.244187  0.022645 -0.495618 -0.283147  0.104214   \n",
      "Title    -0.119826  0.565539 -0.080823  0.302061  0.218283  0.031726   \n",
      "\n",
      "           IsAlone     Title  \n",
      "Pclass    0.173555 -0.119826  \n",
      "Sex      -0.244187  0.565539  \n",
      "Age       0.022645 -0.080823  \n",
      "Parch    -0.495618  0.302061  \n",
      "Fare     -0.283147  0.218283  \n",
      "Embarked  0.104214  0.031726  \n",
      "IsAlone   1.000000 -0.436558  \n",
      "Title    -0.436558  1.000000  \n"
     ]
    }
   ],
   "source": [
    "for df in [X,X_test]:\n",
    "    # Compute correlation matrix\n",
    "    corr_matrix = df.corr()\n",
    "    print(corr_matrix)\n",
    "    "
   ]
  },
  {
   "cell_type": "code",
   "execution_count": 22,
   "id": "725c43ab",
   "metadata": {
    "execution": {
     "iopub.execute_input": "2025-10-09T19:45:06.100507Z",
     "iopub.status.busy": "2025-10-09T19:45:06.100138Z",
     "iopub.status.idle": "2025-10-09T19:45:06.912597Z",
     "shell.execute_reply": "2025-10-09T19:45:06.911155Z"
    },
    "papermill": {
     "duration": 0.822859,
     "end_time": "2025-10-09T19:45:06.914666",
     "exception": false,
     "start_time": "2025-10-09T19:45:06.091807",
     "status": "completed"
    },
    "tags": []
   },
   "outputs": [
    {
     "name": "stderr",
     "output_type": "stream",
     "text": [
      "/usr/local/lib/python3.11/dist-packages/matplotlib/colors.py:721: RuntimeWarning: invalid value encountered in less\n",
      "  xa[xa < 0] = -1\n"
     ]
    },
    {
     "data": {
      "image/png": "[encoded data removed]",
      "text/plain": [
       "<Figure size 640x480 with 2 Axes>"
      ]
     },
     "metadata": {},
     "output_type": "display_data"
    },
    {
     "name": "stderr",
     "output_type": "stream",
     "text": [
      "/usr/local/lib/python3.11/dist-packages/matplotlib/colors.py:721: RuntimeWarning: invalid value encountered in less\n",
      "  xa[xa < 0] = -1\n"
     ]
    },
    {
     "data": {
      "image/png": "[encoded data removed]",
      "text/plain": [
       "<Figure size 640x480 with 2 Axes>"
      ]
     },
     "metadata": {},
     "output_type": "display_data"
    }
   ],
   "source": [
    "for df in [X,X_test]:\n",
    "    # Compute correlation matrix\n",
    "    corr_matrix = df.corr()\n",
    "    sns.heatmap(corr_matrix, annot=True, cmap='coolwarm', center=0)\n",
    "    plt.title(\"Correlation Heatmap\")\n",
    "    plt.show()"
   ]
  },
  {
   "cell_type": "code",
   "execution_count": 23,
   "id": "17206af5",
   "metadata": {
    "execution": {
     "iopub.execute_input": "2025-10-09T19:45:06.935673Z",
     "iopub.status.busy": "2025-10-09T19:45:06.934866Z",
     "iopub.status.idle": "2025-10-09T19:45:07.252123Z",
     "shell.execute_reply": "2025-10-09T19:45:07.251114Z"
    },
    "papermill": {
     "duration": 0.329268,
     "end_time": "2025-10-09T19:45:07.253989",
     "exception": false,
     "start_time": "2025-10-09T19:45:06.924721",
     "status": "completed"
    },
    "tags": []
   },
   "outputs": [],
   "source": [
    "from sklearn.metrics import accuracy_score \n",
    "from xgboost import XGBClassifier \n",
    "\n",
    "X_train, X_val, y_train, y_val = train_test_split(X, y, test_size=0.2, random_state=42)"
   ]
  },
  {
   "cell_type": "code",
   "execution_count": 24,
   "id": "889bc6e2",
   "metadata": {
    "execution": {
     "iopub.execute_input": "2025-10-09T19:45:07.275981Z",
     "iopub.status.busy": "2025-10-09T19:45:07.275627Z",
     "iopub.status.idle": "2025-10-09T19:45:08.196803Z",
     "shell.execute_reply": "2025-10-09T19:45:08.194894Z"
    },
    "papermill": {
     "duration": 0.934215,
     "end_time": "2025-10-09T19:45:08.198598",
     "exception": false,
     "start_time": "2025-10-09T19:45:07.264383",
     "status": "completed"
    },
    "tags": []
   },
   "outputs": [
    {
     "name": "stdout",
     "output_type": "stream",
     "text": [
      "Validation Accuracy=0.8045\n"
     ]
    }
   ],
   "source": [
    "# xgb_model = XGBClassifier(\n",
    "#     n_estimators=1000,\n",
    "#     max_depth=3,\n",
    "#     learning_rate=0.01,\n",
    "#     subsample=0.9,\n",
    "#     colsample_bytree=0.8,\n",
    "#     gamma=0.1,\n",
    "#     random_state=42,\n",
    "#     use_label_encoder=False,\n",
    "#     eval_metric='logloss'\n",
    "# )\n",
    "\n",
    "from xgboost import XGBClassifier\n",
    "from sklearn.metrics import accuracy_score\n",
    "    \n",
    "xgb_model = XGBClassifier(\n",
    "    n_estimators=2000,\n",
    "    learning_rate=0.001,\n",
    "    max_depth=4,\n",
    "    subsample=0.85,\n",
    "    colsample_bytree=0.85,\n",
    "    gamma=0.1,\n",
    "    random_state=42,\n",
    "    use_label_encoder=False,\n",
    "    eval_metric='logloss'\n",
    ")\n",
    "\n",
    "xgb_model.fit(X_train, y_train)\n",
    "y_pred = xgb_model.predict(X_val)\n",
    "acc = accuracy_score(y_val, y_pred)\n",
    "print(f\"Validation Accuracy={acc:.4f}\")"
   ]
  },
  {
   "cell_type": "code",
   "execution_count": 25,
   "id": "2ec7f73d",
   "metadata": {
    "execution": {
     "iopub.execute_input": "2025-10-09T19:45:08.221721Z",
     "iopub.status.busy": "2025-10-09T19:45:08.221384Z",
     "iopub.status.idle": "2025-10-09T19:45:08.244500Z",
     "shell.execute_reply": "2025-10-09T19:45:08.242502Z"
    },
    "papermill": {
     "duration": 0.035628,
     "end_time": "2025-10-09T19:45:08.246274",
     "exception": false,
     "start_time": "2025-10-09T19:45:08.210646",
     "status": "completed"
    },
    "tags": []
   },
   "outputs": [
    {
     "name": "stdout",
     "output_type": "stream",
     "text": [
      "Submission file created: titanic_submission.csv\n"
     ]
    }
   ],
   "source": [
    "test_predictions = xgb_model.predict(X_test)\n",
    "\n",
    "# =========================\n",
    "# Create submission DataFrame\n",
    "# =========================\n",
    "submission = pd.DataFrame({\n",
    "    'PassengerId': test['PassengerId'],\n",
    "    'Survived': test_predictions\n",
    "})\n",
    "\n",
    "submission.to_csv('titanic_submission.csv', index=False)\n",
    "print(\"Submission file created: titanic_submission.csv\")"
   ]
  }
 ],
 "metadata": {
  "kaggle": {
   "accelerator": "none",
   "dataSources": [
    {
     "databundleVersionId": 26502,
     "sourceId": 3136,
     "sourceType": "competition"
    }
   ],
   "dockerImageVersionId": 31089,
   "isGpuEnabled": false,
   "isInternetEnabled": true,
   "language": "python",
   "sourceType": "notebook"
  },
  "kernelspec": {
   "display_name": "Python 3",
   "language": "python",
   "name": "python3"
  },
  "language_info": {
   "codemirror_mode": {
    "name": "ipython",
    "version": 3
   },
   "file_extension": ".py",
   "mimetype": "text/x-python",
   "name": "python",
   "nbconvert_exporter": "python",
   "pygments_lexer": "ipython3",
   "version": "3.11.13"
  },
  "papermill": {
   "default_parameters": {},
   "duration": 32.676595,
   "end_time": "2025-10-09T19:45:10.878410",
   "environment_variables": {},
   "exception": null,
   "input_path": "__notebook__.ipynb",
   "output_path": "__notebook__.ipynb",
   "parameters": {},
   "start_time": "2025-10-09T19:44:38.201815",
   "version": "2.6.0"
  }
 },
 "nbformat": 4,
 "nbformat_minor": 5
}
